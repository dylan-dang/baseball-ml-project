{
 "cells": [
  {
   "cell_type": "markdown",
   "metadata": {},
   "source": [
    "# CS 363M Machine Learning Project"
   ]
  },
  {
   "cell_type": "markdown",
   "metadata": {},
   "source": [
    "## Authors\n",
    "- Hudson Gould (HAG929)\n",
    "- Cristian Cantu (cjc5844)\n",
    "- Diego Costa (dc48222)\n",
    "- Dylan Dang (dad4364)"
   ]
  },
  {
   "cell_type": "markdown",
   "metadata": {},
   "source": [
    "## Background\n",
    "\n",
    "\n",
    "\n",
    "In this project, we want to predict wether or not a given baseball pitch will be a home run or not. This is an interesting problem because it could be used to better predict the outcomes of baseball games in advance (at least in terms of number of homeruns). Alternatively, one can calculate the probability of a given pitch being a home run *during* the pitch itself (though the outcome will be evident seconds after).\n",
    "\n",
    "To do this, we are using data from the UT Baseball 2024 Season. Our dataset contains data from every single pitch during UT home games, taken from a TrackMan brand detection machine which tracks and records 3D characteristic of a baseball in motion.\n",
    "\n",
    "We want to use this data to predict whether a given pitch will be a home run or not. We will use information such as the pitch velocities, runs scored, and other pitch information to predict this. This ML problem is especially interesting, as it suffers from a massive imbalance of classes - far more of the pitches are NOT homeruns, compared to those that are. (Reminiscent of the \"predicting credit card fraud\" problem). This means that our data will have to be carefully pruned and our modeling techniques must be jucicious to avoid a too-high false negative rate.\n",
    "\n"
   ]
  },
  {
   "cell_type": "markdown",
   "metadata": {},
   "source": [
    "## Data Preparation"
   ]
  },
  {
   "cell_type": "markdown",
   "metadata": {},
   "source": [
    "### Import packages"
   ]
  },
  {
   "cell_type": "code",
   "execution_count": null,
   "metadata": {},
   "outputs": [
    {
     "name": "stdout",
     "output_type": "stream",
     "text": [
      "Requirement already satisfied: seaborn in c:\\python312\\lib\\site-packages (0.13.2)\n",
      "Requirement already satisfied: numpy!=1.24.0,>=1.20 in c:\\python312\\lib\\site-packages (from seaborn) (1.26.4)\n",
      "Requirement already satisfied: pandas>=1.2 in c:\\python312\\lib\\site-packages (from seaborn) (2.2.3)\n",
      "Requirement already satisfied: matplotlib!=3.6.1,>=3.4 in c:\\python312\\lib\\site-packages (from seaborn) (3.9.3)\n",
      "Requirement already satisfied: contourpy>=1.0.1 in c:\\python312\\lib\\site-packages (from matplotlib!=3.6.1,>=3.4->seaborn) (1.3.1)\n",
      "Requirement already satisfied: cycler>=0.10 in c:\\python312\\lib\\site-packages (from matplotlib!=3.6.1,>=3.4->seaborn) (0.12.1)\n",
      "Requirement already satisfied: fonttools>=4.22.0 in c:\\python312\\lib\\site-packages (from matplotlib!=3.6.1,>=3.4->seaborn) (4.55.1)\n",
      "Requirement already satisfied: kiwisolver>=1.3.1 in c:\\python312\\lib\\site-packages (from matplotlib!=3.6.1,>=3.4->seaborn) (1.4.7)\n",
      "Requirement already satisfied: packaging>=20.0 in c:\\users\\crist\\appdata\\roaming\\python\\python312\\site-packages (from matplotlib!=3.6.1,>=3.4->seaborn) (23.2)\n",
      "Requirement already satisfied: pillow>=8 in c:\\python312\\lib\\site-packages (from matplotlib!=3.6.1,>=3.4->seaborn) (11.0.0)\n",
      "Requirement already satisfied: pyparsing>=2.3.1 in c:\\python312\\lib\\site-packages (from matplotlib!=3.6.1,>=3.4->seaborn) (3.1.2)\n",
      "Requirement already satisfied: python-dateutil>=2.7 in c:\\users\\crist\\appdata\\roaming\\python\\python312\\site-packages (from matplotlib!=3.6.1,>=3.4->seaborn) (2.9.0.post0)\n",
      "Requirement already satisfied: pytz>=2020.1 in c:\\python312\\lib\\site-packages (from pandas>=1.2->seaborn) (2024.2)\n",
      "Requirement already satisfied: tzdata>=2022.7 in c:\\python312\\lib\\site-packages (from pandas>=1.2->seaborn) (2024.2)\n",
      "Requirement already satisfied: six>=1.5 in c:\\users\\crist\\appdata\\roaming\\python\\python312\\site-packages (from python-dateutil>=2.7->matplotlib!=3.6.1,>=3.4->seaborn) (1.16.0)\n"
     ]
    },
    {
     "name": "stderr",
     "output_type": "stream",
     "text": [
      "\n",
      "[notice] A new release of pip is available: 24.0 -> 24.3.1\n",
      "[notice] To update, run: python.exe -m pip install --upgrade pip\n"
     ]
    }
   ],
   "source": [
    "import pandas as pd\n",
    "import matplotlib.pyplot as plt\n",
    "import numpy as np\n",
    "import scipy.stats as spstats\n",
    "import seaborn as sns\n",
    "%matplotlib inline"
   ]
  },
  {
   "cell_type": "markdown",
   "metadata": {},
   "source": [
    "### Data Cleaning"
   ]
  },
  {
   "cell_type": "markdown",
   "metadata": {},
   "source": [
    "##### Print the head of the data as a cursory look"
   ]
  },
  {
   "cell_type": "code",
   "execution_count": 21,
   "metadata": {},
   "outputs": [
    {
     "name": "stdout",
     "output_type": "stream",
     "text": [
      "                          game_id        Date     Time  PitchNo  Inning  \\\n",
      "0  20240220-HighPointUniversity-1  2024-02-20  60314.0       82       3   \n",
      "1  20240220-HighPointUniversity-1  2024-02-20  63576.0      185       6   \n",
      "2  20240220-HighPointUniversity-1  2024-02-20  66446.0      269       8   \n",
      "3  20240220-HighPointUniversity-1  2024-02-20  64809.0      216       6   \n",
      "4  20240220-HighPointUniversity-1  2024-02-20  67985.0      308       9   \n",
      "\n",
      "  inning_half  PAofInning  PitchofPA           Pitcher   PitcherId  ...    z0  \\\n",
      "0         Top           4          2  Olsovsky, Dalton  1000251274  ...  5.41   \n",
      "1         Top           2          3     Glover, Lucas  1000138461  ...  6.01   \n",
      "2         Top           3          1      Carter, Noah  1000108939  ...  5.52   \n",
      "3      Bottom           6          1     Welch, Collin  1000192105  ...  6.23   \n",
      "4      Bottom           4          3       Lewis, Zach  1000127413  ...  5.18   \n",
      "\n",
      "    vx0     vy0    vz0    ax0    ay0    az0          catcher    catcher_id  \\\n",
      "0  3.28 -106.58   0.58  12.91  22.07 -34.04     Ruiz, Justin  1.000209e+09   \n",
      "1  5.23 -118.11  -3.37   3.74  26.71 -27.88     Ruiz, Justin  1.000209e+09   \n",
      "2  3.08 -122.94  -1.77  -3.68  24.28 -16.89     Grintz, Eric  6.864560e+05   \n",
      "3  0.38 -117.74  -0.37 -12.27  24.59 -28.63  Church, Braxton  1.000192e+09   \n",
      "4  9.62 -132.57 -10.20  -8.59  32.05 -14.93  Church, Braxton  1.000192e+09   \n",
      "\n",
      "   catcher_team  \n",
      "0       HIG_PAN  \n",
      "1       HIG_PAN  \n",
      "2       HIG_PAN  \n",
      "3       APP_MOU  \n",
      "4       APP_MOU  \n",
      "\n",
      "[5 rows x 77 columns]\n",
      "(1513439, 77)\n"
     ]
    }
   ],
   "source": [
    "data = pd.read_csv('data.csv')\n",
    "\n",
    "#Print the head of the data\n",
    "print(data.head())\n",
    "\n",
    "print(data.shape)"
   ]
  },
  {
   "cell_type": "markdown",
   "metadata": {},
   "source": [
    "One notable feature of this data is the enourmous amount of rows - 1.5 Million! Looking at the first column \"game_id\", we in fact see that multiple other schools are represented in this dataset, since we see names of schools that are not Texas or it's opponent on a given day (for example, the head of this data shows a game from High Point University v Not Texas). \n",
    "\n",
    "For this reason, an easy first step is to remove all the rows not containing \"Texas\" in the first column, to give us a pruned dataset of ONLY Texas home games. We choose to ignore the Away games, as garnering insights to get a better home field advantage is better than trying to analyze our performance at 6 different other school's fields."
   ]
  },
  {
   "cell_type": "code",
   "execution_count": 22,
   "metadata": {},
   "outputs": [],
   "source": [
    "texas_data = data[data['game_id'].str.contains(\"Texas\", na=False)]\n",
    "\n",
    "texas_data.to_csv(\"texas_data.csv\", index=False)"
   ]
  },
  {
   "cell_type": "markdown",
   "metadata": {},
   "source": [
    "Now that we have our texas_data.csv, we can proceed with our analysis from here!"
   ]
  },
  {
   "cell_type": "code",
   "execution_count": 23,
   "metadata": {},
   "outputs": [
    {
     "name": "stdout",
     "output_type": "stream",
     "text": [
      "            game_id        Date     Time  PitchNo  Inning inning_half  \\\n",
      "0  20240220-Texas-1  2024-02-20  78782.0      357       9         Top   \n",
      "1  20240220-Texas-1  2024-02-20  72532.0      158       5         Top   \n",
      "2  20240220-Texas-1  2024-02-20  75554.0      252       6      Bottom   \n",
      "3  20240220-Texas-1  2024-02-20  73889.0      197       5      Bottom   \n",
      "4  20240220-Texas-1  2024-02-20  76475.0      281       7      Bottom   \n",
      "\n",
      "   PAofInning  PitchofPA           Pitcher   PitcherId  ...    z0   vx0  \\\n",
      "0           3          3      O'Hara, Cade  1000192590  ...  6.04  1.96   \n",
      "1           1          2  Hamilton, Hudson      815123  ...  6.12  7.30   \n",
      "2           7          3   Gilley, Brayden  1000165200  ...  6.41  1.61   \n",
      "3          10          3   Gilley, Brayden  1000165200  ...  6.27  4.20   \n",
      "4           2          6      Wilson, Dave  1000306108  ...  5.79  2.06   \n",
      "\n",
      "      vy0   vz0   ax0    ay0    az0             catcher catcher_id  \\\n",
      "0 -128.39 -7.87 -9.46  26.93 -13.46  Schuessler, Kimble   694645.0   \n",
      "1 -133.46 -5.53 -9.15  27.18 -15.40       Galvan, Rylan   805025.0   \n",
      "2 -127.56 -4.87 -7.68  25.99 -19.20        LaRue, Dylan   804659.0   \n",
      "3 -113.24 -3.16  5.52  24.10 -39.73        LaRue, Dylan   804659.0   \n",
      "4 -131.64 -4.69  0.41  27.55 -20.54        LaRue, Dylan   804659.0   \n",
      "\n",
      "   catcher_team  \n",
      "0       TEX_LON  \n",
      "1       TEX_LON  \n",
      "2       HBU_HUS  \n",
      "3       HBU_HUS  \n",
      "4       HBU_HUS  \n",
      "\n",
      "[5 rows x 77 columns]\n",
      "Shape of the data: (10230, 77)\n",
      "This data represents 33 games\n",
      "This means there were an average 310.0 pitches per game\n"
     ]
    }
   ],
   "source": [
    "texas_data = pd.read_csv(\"texas_data.csv\")\n",
    "\n",
    "print(texas_data.head())\n",
    "\n",
    "print(\"Shape of the data: \", end=\"\")\n",
    "print(texas_data.shape)\n",
    "\n",
    "num_rows = texas_data.shape[0]\n",
    "\n",
    "#Figure out how many games this represents\n",
    "num_games = texas_data['game_id'].nunique()\n",
    "print(\"This data represents \"+str(num_games)+\" games\")\n",
    "print(\"This means there were an average \"+str(num_rows/num_games)+\" pitches per game\")"
   ]
  },
  {
   "cell_type": "markdown",
   "metadata": {},
   "source": [
    "After reducing our dataset to only the Texas home games, our dataset has a much more manageable 10230 rows. "
   ]
  },
  {
   "cell_type": "markdown",
   "metadata": {},
   "source": [
    "Now we want to take a more in-depth look at all of our features and use both logic and analytical methods to identify features which are not useful and then remove them as part of our feature engineering step. For this purpose, it is crucially important to understand what exactly the 77 given features are exactly.\n",
    "\n",
    "Here are the features and their meanings: (taken from the TrackMan website)"
   ]
  },
  {
   "cell_type": "markdown",
   "metadata": {},
   "source": [
    "<details>\n",
    "<summary>Features</summary>\n",
    "\n",
    "**Game Information**\n",
    "- **game_id**: Game ID  \n",
    "- **Date**: Date of the game  \n",
    "- **Time**: Time of the pitch  \n",
    "- **Inning**: Inning of the game  \n",
    "- **inning_half**: Top or Bottom of the inning  \n",
    "- **PAofInning**: Plate appearance of the inning  \n",
    "- **PitchofPA**: Pitch number within the plate appearance  \n",
    "\n",
    "**Pitcher Information**\n",
    "- **Pitcher**: Name of the pitcher  \n",
    "- **PitcherId**: Unique identifier for the pitcher  \n",
    "- **PitcherThrows**: Pitcher's throwing hand (e.g., right or left)  \n",
    "- **PitcherTeam**: Team of the pitcher  \n",
    "\n",
    "**Batter Information**\n",
    "- **Batter**: Name of the batter  \n",
    "- **BatterId**: Unique identifier for the batter  \n",
    "- **BatterSide**: Batter's stance (e.g., right or left)  \n",
    "- **BatterTeam**: Team of the batter  \n",
    "\n",
    "**Catcher Information**\n",
    "- **catcher**: Name of the catcher  \n",
    "- **catcher_id**: Unique identifier for the catcher  \n",
    "- **catcher_team**: Team of the catcher  \n",
    "\n",
    "**Pitch Call and Results**\n",
    "- **PitchCall**: Umpire call for the pitch (e.g., ball, strike)  \n",
    "- **PlayResult**: Outcome of the play (e.g., single, out, home run)  \n",
    "- **KorBB**: Strikeout or base on balls indicator  \n",
    "- **OutsOnPlay**: Number of outs resulting from the play  \n",
    "- **RunsScored**: Runs scored on the play  \n",
    "\n",
    "**Game State**\n",
    "- **Balls**: Count of balls in the at-bat  \n",
    "- **Strikes**: Count of strikes in the at-bat  \n",
    "- **Outs**: Number of outs in the inning  \n",
    "\n",
    "**Pitch Information**\n",
    "- **TaggedPitchType**: Categorized pitch type (e.g., fastball, curveball)  \n",
    "- **RelSpeed**: Release speed of the pitch  \n",
    "- **SpinRate**: Spin rate of the pitch in revolutions per minute  \n",
    "- **SpinAxis**: Orientation of the spin axis (degrees)  \n",
    "- **Tilt**: Clock-style representation of spin axis  \n",
    "- **InducedVertBreak**: Vertical break due to spin (in inches)  \n",
    "- **VertBreak**: Total vertical break (in inches)  \n",
    "- **HorzBreak**: Total horizontal break (in inches)  \n",
    "- **VertApprAngle**: Vertical approach angle at the plate (degrees)  \n",
    "- **HorzApprAngle**: Horizontal approach angle at the plate (degrees)  \n",
    "- **zone_time**: Time to reach the strike zone (seconds)  \n",
    "\n",
    "**Release Metrics**\n",
    "- **vert_rel_angle**: Vertical release angle of the pitch (degrees)  \n",
    "- **horz_rel_angle**: Horizontal release angle of the pitch (degrees)  \n",
    "- **RelHeight**: Release height of the pitch (feet)  \n",
    "- **RelSide**: Horizontal release position relative to the rubber (feet)  \n",
    "- **Extension**: Distance from the mound to the release point (feet)  \n",
    "\n",
    "**Plate Location**\n",
    "- **PlateLocHeight**: Height of the pitch as it crosses the plate (feet)  \n",
    "- **PlateLocSide**: Horizontal location of the pitch at the plate (feet)  \n",
    "\n",
    "**Hit Information**\n",
    "- **TaggedHitType**: Categorized hit type (e.g., ground ball, fly ball)  \n",
    "- **hit_x**: X-coordinate of the hit landing spot (feet)  \n",
    "- **hit_y**: Y-coordinate of the hit landing spot (feet)  \n",
    "- **ExitSpeed**: Exit velocity of the ball off the bat (mph)  \n",
    "- **Angle**: Launch angle of the ball (degrees)  \n",
    "- **HitSpinRate**: Spin rate of the ball off the bat (rpm)  \n",
    "- **hit_spin_axis** Spin axis of the ball off the bat (degrees)  \n",
    "- **Distance**: Total distance of the hit (feet)  \n",
    "- **hit_last_tracked_distance**: Last tracked distance of the ball (feet)  \n",
    "- **hit_hang_time**: Time the ball is in the air (seconds)  \n",
    "- **Direction**: Direction of the hit (e.g., pull, opposite)  \n",
    "- **Bearing**: Bearing of the hit relative to the field (degrees)  \n",
    "- **hit_max_height**: Maximum height of the ball (feet)  \n",
    "- **hit_contact_x**: X-coordinate of the contact point on the bat (inches)  \n",
    "- **hit_contact_y**: Y-coordinate of the contact point on the bat (inches)  \n",
    "- **hit_contact_z**: Z-coordinate of the contact point on the bat (inches)  \n",
    "\n",
    "**Pitch Physics**\n",
    "- **position_110x**: X-position at 110 feet from release point (feet)  \n",
    "- **position_110y**: Y-position at 110 feet from release point (feet)  \n",
    "- **position_110z**: Z-position at 110 feet from release point (feet)  \n",
    "- **pfxx**: Horizontal movement of the pitch (inches)  \n",
    "- **pfxz**: Vertical movement of the pitch (inches)  \n",
    "- **x0**: X-coordinate of the pitch at release (feet)  \n",
    "- **y0**: Y-coordinate of the pitch at release (feet)  \n",
    "- **z0**: Z-coordinate of the pitch at release (feet)  \n",
    "- **vx0**: X-component of velocity at release (mph)  \n",
    "- **vy0**: Y-component of velocity at release (mph)  \n",
    "- **vz0**: Z-component of velocity at release (mph)  \n",
    "- **ax0**: X-component of acceleration (ft/s²)  \n",
    "- **ay0**: Y-component of acceleration (ft/s²)  \n",
    "- **az0**: Z-component of acceleration (ft/s²)  \n",
    "- **EffectiveVelo**: Effective velocity as perceived by the batter (mph)  \n",
    "- **SpeedDrop**: Velocity drop from release to plate (mph)\n",
    "\n",
    "<details>"
   ]
  },
  {
   "cell_type": "markdown",
   "metadata": {},
   "source": [
    "While it may be tempting to immediately remove features such as the inning number, we need to do some critical thinking. The only rows which we should drop outright are those which are either too difficult to process or too variant to be meaningful. For example, pitcher name (which is categorical), and the timestamp are 2 good examples of columns we should just drop. However, info like the inning number is useful and may in fact have a correlation with home runs which should not be glossed over. For example, perhaps pitchers tend to get tired by the 9th inning, and thus give up more home runs. Or alternatively, they \"lock in\" in the final inning to close out a tight game! We don't really know, so it behooves us to keep it in and let analytics to the thinking.\n",
    "\n",
    "With all this said, we will first remove those obvious \"should not use\" features. Note that we choose to not include player information simply because one-hot-encoding all the players would result in too many additional features."
   ]
  },
  {
   "cell_type": "code",
   "execution_count": 24,
   "metadata": {},
   "outputs": [
    {
     "name": "stdout",
     "output_type": "stream",
     "text": [
      "(10230, 67)\n"
     ]
    }
   ],
   "source": [
    "cols_to_drop = [\n",
    "    \"game_id\",\n",
    "    \"Date\",\n",
    "    \"Time\",\n",
    "    \"Pitcher\",\n",
    "    \"PitcherId\",\n",
    "    \"Batter\",\n",
    "    \"BatterId\",\n",
    "    \"catcher\",\n",
    "    \"catcher_id\",\n",
    "    \"catcher_team\"\n",
    "]\n",
    "\n",
    "data = texas_data.drop(columns=cols_to_drop, errors='ignore')\n",
    "\n",
    "print(data.shape)"
   ]
  },
  {
   "cell_type": "markdown",
   "metadata": {},
   "source": [
    "Note that the number of columns is now down from 77 to 67, (minus 10, which is the length of cols_to_drop)"
   ]
  },
  {
   "cell_type": "markdown",
   "metadata": {},
   "source": [
    "As a restatement of our goal, we want to predict wether a given pitch will be a home run given all the data up to (and including) the batter's point of contact. Any information after the fact (like distance, number of runs scored, and the play call) makes it quite easy to infer wether the hit was a home run or not. Thus, we now need to separate all the columns containing after-hit data into a different dataframe. (Not erase it, since it will be useful for accuracy metrics later!)"
   ]
  },
  {
   "cell_type": "code",
   "execution_count": 25,
   "metadata": {},
   "outputs": [
    {
     "name": "stdout",
     "output_type": "stream",
     "text": [
      "(1570, 67)\n",
      "   PitchCall PlayResult      KorBB  OutsOnPlay  RunsScored TaggedHitType  \\\n",
      "0     InPlay        Out  Undefined           1           0      fly_ball   \n",
      "1     InPlay     Double  Undefined           0           0      fly_ball   \n",
      "6     InPlay     Single  Undefined           0           1      fly_ball   \n",
      "10    InPlay     Single  Undefined           0           0           NaN   \n",
      "15    InPlay     Double  Undefined           0           0      fly_ball   \n",
      "\n",
      "     hit_x   hit_y  Distance  hit_last_tracked_distance  hit_hang_time  \\\n",
      "0   136.25  226.40    264.23                     258.01           3.27   \n",
      "1   -74.63  349.69    357.56                     357.56           4.26   \n",
      "6   -85.10  226.27    241.74                     241.74           2.83   \n",
      "10     NaN     NaN       NaN                        NaN            NaN   \n",
      "15  -69.84  364.18    370.81                     370.81           3.93   \n",
      "\n",
      "    Direction  Bearing  hit_max_height TaggedPitchType  \n",
      "0       23.07    31.04           35.12        Fastball  \n",
      "1       -4.79   -12.05           56.00        Fastball  \n",
      "6      -12.55   -20.61           31.09       Curveball  \n",
      "10        NaN      NaN             NaN          Slider  \n",
      "15     -11.61   -10.86           50.60        ChangeUp  \n",
      "\n",
      "Pre-hit / Training Data Shape: (1570, 52)\n",
      "After-hit / Testing Data Shape: (1570, 15)\n"
     ]
    }
   ],
   "source": [
    "# we also want to drop irrelevant records where the ball was not hit or \n",
    "# in other words the playresult is not a hit\n",
    "relevant_play_results = ['Single', 'Double', 'Triple', 'HomeRun', 'Out']\n",
    "\n",
    "# Filter the dataset to keep only relevant play results\n",
    "data = data[data['PlayResult'].isin(relevant_play_results)]\n",
    "\n",
    "# now lets drop those columns\n",
    "after_hit_cols = [\n",
    "    \"PitchCall\",\n",
    "    \"PlayResult\",\n",
    "    \"KorBB\",\n",
    "    \"OutsOnPlay\",\n",
    "    \"RunsScored\",\n",
    "    \"TaggedHitType\",\n",
    "    \"hit_x\",\n",
    "    \"hit_y\",\n",
    "    \"Distance\",\n",
    "    \"hit_last_tracked_distance\",\n",
    "    \"hit_hang_time\",\n",
    "    \"Direction\",\n",
    "    \"Bearing\",\n",
    "    \"hit_max_height\",\n",
    "    \"TaggedPitchType\"\n",
    "]\n",
    "\n",
    "#Print before size\n",
    "print(data.shape)\n",
    "\n",
    "after_hit_data = data[after_hit_cols]\n",
    "data = data.drop(columns=after_hit_cols)\n",
    "\n",
    "print(after_hit_data.head())\n",
    "\n",
    "#Print after sizes to confirm proper split\n",
    "print()\n",
    "print(\"Pre-hit / Training Data Shape: \"+str(data.shape))\n",
    "print(\"After-hit / Testing Data Shape: \"+str(after_hit_data.shape))"
   ]
  },
  {
   "cell_type": "markdown",
   "metadata": {},
   "source": [
    "Now we have isolated our pre-hit data to just 52 columns, and our post-hit data, containing 15 columns. We also reduced the number of records to 1570 from our previous 10000 by only keeping the relevant PlayResults. "
   ]
  },
  {
   "cell_type": "markdown",
   "metadata": {},
   "source": [
    "This is good enough for preliminary data cleaning. Now we explore the data to better understand our features and what we need to consider when modeling!"
   ]
  },
  {
   "cell_type": "markdown",
   "metadata": {},
   "source": [
    "### Data Exploration"
   ]
  },
  {
   "cell_type": "markdown",
   "metadata": {},
   "source": [
    "To get a very overall feel for the data, we want to take a look at the correlations between the remaining columns and see how they are related to home runs"
   ]
  },
  {
   "cell_type": "code",
   "execution_count": 28,
   "metadata": {},
   "outputs": [
    {
     "name": "stdout",
     "output_type": "stream",
     "text": [
      "Categorical Features:\n",
      "Index(['inning_half', 'PitcherThrows', 'PitcherTeam', 'BatterSide',\n",
      "       'BatterTeam'],\n",
      "      dtype='object')\n",
      "\n",
      "Numerical Features: \n",
      "['PitchNo', 'Inning', 'PAofInning', 'PitchofPA', 'Balls', 'Strikes', 'Outs', 'RelSpeed', 'SpinRate', 'SpinAxis', 'Tilt', 'InducedVertBreak', 'VertBreak', 'HorzBreak', 'VertApprAngle', 'HorzApprAngle', 'vert_rel_angle', 'horz_rel_angle', 'RelHeight', 'RelSide', 'Extension', 'PlateLocHeight', 'PlateLocSide', 'zone_time', 'EffectiveVelo', 'SpeedDrop', 'ExitSpeed', 'Angle', 'HitSpinRate', 'hit_spin_axis', 'hit_contact_x', 'hit_contact_y', 'hit_contact_z', 'position_110x', 'position_110y', 'position_110z', 'pfxx', 'pfxz', 'x0', 'y0', 'z0', 'vx0', 'vy0', 'vz0', 'ax0', 'ay0', 'az0', 'IsHomeRun']\n",
      "\n",
      "IsHomeRun           1.000000\n",
      "ExitSpeed           0.220523\n",
      "Angle               0.118566\n",
      "hit_contact_x       0.096372\n",
      "position_110y       0.093541\n",
      "az0                 0.084719\n",
      "InducedVertBreak    0.083672\n",
      "pfxz                0.081276\n",
      "VertApprAngle       0.074895\n",
      "VertBreak           0.072639\n",
      "hit_contact_y       0.060453\n",
      "HorzBreak           0.051039\n",
      "SpinAxis            0.043692\n",
      "EffectiveVelo       0.038711\n",
      "Balls               0.036228\n",
      "PitchofPA           0.035565\n",
      "PAofInning          0.034756\n",
      "RelSpeed            0.034439\n",
      "PlateLocSide        0.033858\n",
      "vx0                 0.026162\n",
      "Outs                0.025822\n",
      "Extension           0.023785\n",
      "PlateLocHeight      0.019909\n",
      "RelSide             0.018229\n",
      "HorzApprAngle       0.011823\n",
      "Strikes             0.008022\n",
      "SpeedDrop           0.003415\n",
      "SpinRate            0.002205\n",
      "hit_spin_axis       0.002056\n",
      "ay0                -0.000926\n",
      "RelHeight          -0.004838\n",
      "PitchNo            -0.005977\n",
      "Tilt               -0.010830\n",
      "Inning             -0.011225\n",
      "z0                 -0.013922\n",
      "x0                 -0.016772\n",
      "hit_contact_z      -0.019368\n",
      "position_110x      -0.020384\n",
      "horz_rel_angle     -0.028642\n",
      "vz0                -0.033467\n",
      "vy0                -0.034335\n",
      "zone_time          -0.036253\n",
      "vert_rel_angle     -0.039761\n",
      "ax0                -0.047676\n",
      "pfxx               -0.049781\n",
      "HitSpinRate        -0.056253\n",
      "position_110z      -0.062090\n",
      "y0                       NaN\n",
      "Name: IsHomeRun, dtype: float64\n"
     ]
    }
   ],
   "source": [
    "#Create an \"IsHomeRun\" label column\n",
    "data['IsHomeRun'] = (after_hit_data['PlayResult'] == 'HomeRun').astype(int)\n",
    "\n",
    "#Check if there are any categorical  columns left\n",
    "categorical_features = data.select_dtypes(exclude=[\"number\"]).columns\n",
    "print(\"Categorical Features:\")\n",
    "print(categorical_features) \n",
    "print()\n",
    "\n",
    "#There are 5, but we will keep those for the feature engineering section. So we temporarily drop them.\n",
    "# Drop all columns that aren't numerical\n",
    "numerical_features = data.select_dtypes(include=['float64', 'int64']).columns.tolist()\n",
    "if 'IsHomeRun' not in numerical_features:\n",
    "    numerical_features.append('IsHomeRun')\n",
    "print(\"Numerical Features: \")\n",
    "print(numerical_features)\n",
    "print()\n",
    "\n",
    "## Calculate correlations with IsHomeRun\n",
    "home_run_corr = data[numerical_features].corr()['IsHomeRun'].sort_values(ascending=False)\n",
    "\n",
    "# Display the correlations\n",
    "pd.set_option('display.max_rows', None)\n",
    "print(home_run_corr)"
   ]
  },
  {
   "cell_type": "markdown",
   "metadata": {},
   "source": [
    "The results of this are quite interesting - they show that the highest correlated features are the Exit speed, contact positions, and the Pitch of Plate Appearance! Reasonably, they are mostly related to the hit itself rather than the pitch."
   ]
  },
  {
   "cell_type": "markdown",
   "metadata": {},
   "source": [
    "### Feature Engineering"
   ]
  },
  {
   "cell_type": "markdown",
   "metadata": {},
   "source": [
    "Now we get to feature engineering. There are some notable categorical features that we want to one-hot encode or turn into binary variables, to allow convenient modeling. These operations are shown below.\n"
   ]
  },
  {
   "cell_type": "code",
   "execution_count": null,
   "metadata": {},
   "outputs": [],
   "source": [
    "from sklearn.preprocessing import OrdinalEncoder\n",
    "\n",
    "numerical = [\n",
    "    \"PitcherThrows\",\n",
    "    \"PitcherTeam\",\n",
    "    \"BatterSide\",\n",
    "    \"BatterTeam\",\n",
    "    \"TaggedPitchType\",\n",
    "    #\n",
    "    \"inning_half\"\n",
    "]\n",
    "\n",
    "#Make the handed-ness and Teams a boolean value\n",
    "data[\"PitcherThrows\"] = data[\"PitcherThrows\"].map({\"L\":0, \"R\":1})\n",
    "data[\"PitcherTeam\"] = (data[\"PitcherTeam\"] == \"TEX_LON\").astype(int)\n",
    "data[\"BatterSide\"] = data[\"BatterSide\"].map({\"L\":0, \"R\":1})\n",
    "data[\"BatterTeam\"] = (data[\"BatterTeam\"] == \"TEX_LON\").astype(int)\n",
    "data[\"inning_half\"]\n",
    "\n",
    "#We also want to engineer this new feature indicating the\n",
    "#handed-ness matchup. Statistically, L/L or R/R favors the pitcher\n",
    "#while L/R or R/L favors the batter. We want to represent this as \n",
    "#a new feature!\n",
    "data[\"Sidematchup\"] = (data[\"PitcherThrows\"] == data[\"BatterSide\"]).astype(int)\n",
    "\n",
    "\n"
   ]
  },
  {
   "cell_type": "code",
   "execution_count": 30,
   "metadata": {},
   "outputs": [
    {
     "ename": "KeyError",
     "evalue": "'TaggedPitchType'",
     "output_type": "error",
     "traceback": [
      "\u001b[1;31m---------------------------------------------------------------------------\u001b[0m",
      "\u001b[1;31mKeyError\u001b[0m                                  Traceback (most recent call last)",
      "File \u001b[1;32mc:\\Python312\\Lib\\site-packages\\pandas\\core\\indexes\\base.py:3805\u001b[0m, in \u001b[0;36mIndex.get_loc\u001b[1;34m(self, key)\u001b[0m\n\u001b[0;32m   3804\u001b[0m \u001b[38;5;28;01mtry\u001b[39;00m:\n\u001b[1;32m-> 3805\u001b[0m     \u001b[38;5;28;01mreturn\u001b[39;00m \u001b[38;5;28;43mself\u001b[39;49m\u001b[38;5;241;43m.\u001b[39;49m\u001b[43m_engine\u001b[49m\u001b[38;5;241;43m.\u001b[39;49m\u001b[43mget_loc\u001b[49m\u001b[43m(\u001b[49m\u001b[43mcasted_key\u001b[49m\u001b[43m)\u001b[49m\n\u001b[0;32m   3806\u001b[0m \u001b[38;5;28;01mexcept\u001b[39;00m \u001b[38;5;167;01mKeyError\u001b[39;00m \u001b[38;5;28;01mas\u001b[39;00m err:\n",
      "File \u001b[1;32mindex.pyx:167\u001b[0m, in \u001b[0;36mpandas._libs.index.IndexEngine.get_loc\u001b[1;34m()\u001b[0m\n",
      "File \u001b[1;32mindex.pyx:196\u001b[0m, in \u001b[0;36mpandas._libs.index.IndexEngine.get_loc\u001b[1;34m()\u001b[0m\n",
      "File \u001b[1;32mpandas\\\\_libs\\\\hashtable_class_helper.pxi:7081\u001b[0m, in \u001b[0;36mpandas._libs.hashtable.PyObjectHashTable.get_item\u001b[1;34m()\u001b[0m\n",
      "File \u001b[1;32mpandas\\\\_libs\\\\hashtable_class_helper.pxi:7089\u001b[0m, in \u001b[0;36mpandas._libs.hashtable.PyObjectHashTable.get_item\u001b[1;34m()\u001b[0m\n",
      "\u001b[1;31mKeyError\u001b[0m: 'TaggedPitchType'",
      "\nThe above exception was the direct cause of the following exception:\n",
      "\u001b[1;31mKeyError\u001b[0m                                  Traceback (most recent call last)",
      "Cell \u001b[1;32mIn[30], line 2\u001b[0m\n\u001b[0;32m      1\u001b[0m \u001b[38;5;66;03m#Analysis on TaggedPitchType shows 9 values\u001b[39;00m\n\u001b[1;32m----> 2\u001b[0m \u001b[38;5;28mprint\u001b[39m(\u001b[43mdata\u001b[49m\u001b[43m[\u001b[49m\u001b[38;5;124;43m\"\u001b[39;49m\u001b[38;5;124;43mTaggedPitchType\u001b[39;49m\u001b[38;5;124;43m\"\u001b[39;49m\u001b[43m]\u001b[49m\u001b[38;5;241m.\u001b[39mvalue_counts())\n\u001b[0;32m      3\u001b[0m \u001b[38;5;28mprint\u001b[39m()\n\u001b[0;32m      5\u001b[0m \u001b[38;5;66;03m#Remove the Knuckleball and Four-seam\u001b[39;00m\n",
      "File \u001b[1;32mc:\\Python312\\Lib\\site-packages\\pandas\\core\\frame.py:4102\u001b[0m, in \u001b[0;36mDataFrame.__getitem__\u001b[1;34m(self, key)\u001b[0m\n\u001b[0;32m   4100\u001b[0m \u001b[38;5;28;01mif\u001b[39;00m \u001b[38;5;28mself\u001b[39m\u001b[38;5;241m.\u001b[39mcolumns\u001b[38;5;241m.\u001b[39mnlevels \u001b[38;5;241m>\u001b[39m \u001b[38;5;241m1\u001b[39m:\n\u001b[0;32m   4101\u001b[0m     \u001b[38;5;28;01mreturn\u001b[39;00m \u001b[38;5;28mself\u001b[39m\u001b[38;5;241m.\u001b[39m_getitem_multilevel(key)\n\u001b[1;32m-> 4102\u001b[0m indexer \u001b[38;5;241m=\u001b[39m \u001b[38;5;28;43mself\u001b[39;49m\u001b[38;5;241;43m.\u001b[39;49m\u001b[43mcolumns\u001b[49m\u001b[38;5;241;43m.\u001b[39;49m\u001b[43mget_loc\u001b[49m\u001b[43m(\u001b[49m\u001b[43mkey\u001b[49m\u001b[43m)\u001b[49m\n\u001b[0;32m   4103\u001b[0m \u001b[38;5;28;01mif\u001b[39;00m is_integer(indexer):\n\u001b[0;32m   4104\u001b[0m     indexer \u001b[38;5;241m=\u001b[39m [indexer]\n",
      "File \u001b[1;32mc:\\Python312\\Lib\\site-packages\\pandas\\core\\indexes\\base.py:3812\u001b[0m, in \u001b[0;36mIndex.get_loc\u001b[1;34m(self, key)\u001b[0m\n\u001b[0;32m   3807\u001b[0m     \u001b[38;5;28;01mif\u001b[39;00m \u001b[38;5;28misinstance\u001b[39m(casted_key, \u001b[38;5;28mslice\u001b[39m) \u001b[38;5;129;01mor\u001b[39;00m (\n\u001b[0;32m   3808\u001b[0m         \u001b[38;5;28misinstance\u001b[39m(casted_key, abc\u001b[38;5;241m.\u001b[39mIterable)\n\u001b[0;32m   3809\u001b[0m         \u001b[38;5;129;01mand\u001b[39;00m \u001b[38;5;28many\u001b[39m(\u001b[38;5;28misinstance\u001b[39m(x, \u001b[38;5;28mslice\u001b[39m) \u001b[38;5;28;01mfor\u001b[39;00m x \u001b[38;5;129;01min\u001b[39;00m casted_key)\n\u001b[0;32m   3810\u001b[0m     ):\n\u001b[0;32m   3811\u001b[0m         \u001b[38;5;28;01mraise\u001b[39;00m InvalidIndexError(key)\n\u001b[1;32m-> 3812\u001b[0m     \u001b[38;5;28;01mraise\u001b[39;00m \u001b[38;5;167;01mKeyError\u001b[39;00m(key) \u001b[38;5;28;01mfrom\u001b[39;00m \u001b[38;5;21;01merr\u001b[39;00m\n\u001b[0;32m   3813\u001b[0m \u001b[38;5;28;01mexcept\u001b[39;00m \u001b[38;5;167;01mTypeError\u001b[39;00m:\n\u001b[0;32m   3814\u001b[0m     \u001b[38;5;66;03m# If we have a listlike key, _check_indexing_error will raise\u001b[39;00m\n\u001b[0;32m   3815\u001b[0m     \u001b[38;5;66;03m#  InvalidIndexError. Otherwise we fall through and re-raise\u001b[39;00m\n\u001b[0;32m   3816\u001b[0m     \u001b[38;5;66;03m#  the TypeError.\u001b[39;00m\n\u001b[0;32m   3817\u001b[0m     \u001b[38;5;28mself\u001b[39m\u001b[38;5;241m.\u001b[39m_check_indexing_error(key)\n",
      "\u001b[1;31mKeyError\u001b[0m: 'TaggedPitchType'"
     ]
    }
   ],
   "source": [
    "#Analysis on TaggedPitchType shows 9 values\n",
    "print(data[\"TaggedPitchType\"].value_counts())\n",
    "print()\n",
    "\n",
    "#Remove the Knuckleball and Four-seam\n",
    "knuckle_four_rows = data[data[\"TaggedPitchType\"].isin([\"Knuckleball\", \"Four-Seam\"])].index\n",
    "data = data.drop(knuckle_four_rows)\n",
    "print(data[\"TaggedPitchType\"].value_counts()) #This shows that we removed the properly\n",
    "\n",
    "#Encode the TaggedPitchType Ordinally\n",
    "encoder = OrdinalEncoder()\n",
    "print(data[\"TaggedPitchType\"])\n",
    "\n",
    "data[\"TaggedPitchType\"] = encoder.fit_transform(data[[\"TaggedPitchType\"]])\n",
    "print(data[\"TaggedPitchType\"])"
   ]
  },
  {
   "cell_type": "markdown",
   "metadata": {},
   "source": [
    "## Modeling"
   ]
  },
  {
   "cell_type": "markdown",
   "metadata": {},
   "source": [
    "### Decision Trees (Cristian)"
   ]
  },
  {
   "cell_type": "markdown",
   "metadata": {},
   "source": [
    "### Neural Nets ()"
   ]
  },
  {
   "cell_type": "markdown",
   "metadata": {},
   "source": [
    "### SVM"
   ]
  },
  {
   "cell_type": "markdown",
   "metadata": {},
   "source": [
    "## Outcome"
   ]
  }
 ],
 "metadata": {
  "kernelspec": {
   "display_name": "Python 3",
   "language": "python",
   "name": "python3"
  },
  "language_info": {
   "codemirror_mode": {
    "name": "ipython",
    "version": 3
   },
   "file_extension": ".py",
   "mimetype": "text/x-python",
   "name": "python",
   "nbconvert_exporter": "python",
   "pygments_lexer": "ipython3",
   "version": "3.12.2"
  }
 },
 "nbformat": 4,
 "nbformat_minor": 2
}
