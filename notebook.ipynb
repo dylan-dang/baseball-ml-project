{
 "cells": [
  {
   "cell_type": "markdown",
   "metadata": {},
   "source": [
    "# CS 363M Machine Learning Project"
   ]
  },
  {
   "cell_type": "markdown",
   "metadata": {},
   "source": [
    "## Authors\n",
    "- Hudson Gould (HAG929)\n",
    "- Cristian Cantu (cjc5844)\n",
    "- Diego Costa (dc48222)\n",
    "- Dylan Dang (dad4364)"
   ]
  },
  {
   "cell_type": "markdown",
   "metadata": {},
   "source": [
    "## Background\n",
    "\n",
    "\n",
    "\n",
    "In this project, we want to predict wether or not a given baseball pitch will be a home run or not. This is an interesting problem because it could be used to better predict the outcomes of baseball games in advance (at least in terms of number of homeruns). Alternatively, one can calculate the probability of a given pitch being a home run *during* the pitch itself (though the outcome will be evident seconds after).\n",
    "\n",
    "To do this, we are using data from the UT Baseball 2024 Season. Our dataset contains data from every single pitch during UT home games, taken from a TrackMan brand detection machine which tracks and records 3D characteristic of a baseball in motion.\n",
    "\n",
    "We want to use this data to predict whether a given pitch will be a home run or not. We will use information such as the pitch velocities, runs scored, and other pitch information to predict this. This ML problem is especially interesting, as it suffers from a massive imbalance of classes - far more of the pitches are NOT homeruns, compared to those that are. (Reminiscent of the \"predicting credit card fraud\" problem). This means that our data will have to be carefully pruned and our modeling techniques must be jucicious to avoid a too-high false negative rate.\n",
    "\n"
   ]
  },
  {
   "cell_type": "markdown",
   "metadata": {},
   "source": [
    "## Data Preparation"
   ]
  },
  {
   "cell_type": "markdown",
   "metadata": {},
   "source": [
    "### Import packages"
   ]
  },
  {
   "cell_type": "code",
   "execution_count": null,
   "metadata": {},
   "outputs": [],
   "source": [
    "import pandas as pd\n",
    "import matplotlib.pyplot as plt\n",
    "import numpy as np\n",
    "import scipy.stats as spstats\n",
    "import seaborn as sns\n",
    "import pandas as pd\n",
    "%matplotlib inline"
   ]
  },
  {
   "cell_type": "markdown",
   "metadata": {},
   "source": [
    "### Data Cleaning"
   ]
  },
  {
   "cell_type": "markdown",
   "metadata": {},
   "source": [
    "##### Print the head of the data as a cursory look"
   ]
  },
  {
   "cell_type": "code",
   "execution_count": null,
   "metadata": {},
   "outputs": [],
   "source": [
    "data = pd.read_csv('data.csv')\n",
    "\n",
    "#Print the head of the data\n",
    "print(data.head())\n",
    "\n",
    "print(data.shape)"
   ]
  },
  {
   "cell_type": "markdown",
   "metadata": {},
   "source": [
    "One notable feature of this data is the enourmous amount of rows - 1.5 Million! Looking at the first column \"game_id\", we in fact see that multiple other schools are represented in this dataset, since we see names of schools that are not Texas or it's opponent on a given day (for example, the head of this data shows a game from High Point University v Not Texas). \n",
    "\n",
    "For this reason, an easy first step is to remove all the rows not containing \"Texas\" in the first column, to give us a pruned dataset of ONLY Texas home games. We choose to ignore the Away games, as garnering insights to get a better home field advantage is better than trying to analyze our performance at 6 different other school's fields."
   ]
  },
  {
   "cell_type": "code",
   "execution_count": null,
   "metadata": {},
   "outputs": [],
   "source": [
    "texas_data = data[data['game_id'].str.contains(\"Texas\", na=False)]\n",
    "\n",
    "texas_data.to_csv(\"texas_data.csv\", index=False)"
   ]
  },
  {
   "cell_type": "markdown",
   "metadata": {},
   "source": [
    "Now that we have our texas_data.csv, we can proceed with our analysis from here!"
   ]
  },
  {
   "cell_type": "code",
   "execution_count": null,
   "metadata": {},
   "outputs": [],
   "source": [
    "texas_data = pd.read_csv(\"texas_data.csv\")\n",
    "\n",
    "print(texas_data.head())\n",
    "\n",
    "print(\"Shape of the data: \", end=\"\")\n",
    "print(texas_data.shape)\n",
    "\n",
    "num_rows = texas_data.shape[0]\n",
    "\n",
    "#Figure out how many games this represents\n",
    "num_games = texas_data['game_id'].nunique()\n",
    "print(\"This data represents \"+str(num_games)+\" games\")\n",
    "print(\"This means there were an average \"+str(num_rows/num_games)+\" pitches per game\")"
   ]
  },
  {
   "cell_type": "markdown",
   "metadata": {},
   "source": [
    "After reducing our dataset to only the Texas home games, our dataset has a much more manageable 10230 rows. "
   ]
  },
  {
   "cell_type": "markdown",
   "metadata": {},
   "source": [
    "Now we want to take a more in-depth look at all of our features and use both logic and analytical methods to identify features which are not useful and then remove them as part of our feature engineering step. For this purpose, it is crucially important to understand what exactly the 77 given features are exactly.\n",
    "\n",
    "Here are the features and their meanings: (taken from the TrackMan website)"
   ]
  },
  {
   "cell_type": "markdown",
   "metadata": {},
   "source": [
    "<details>\n",
    "<summary>Features</summary>\n",
    "\n",
    "**Game Information**\n",
    "- **game_id**: Game ID  \n",
    "- **Date**: Date of the game  \n",
    "- **Time**: Time of the pitch  \n",
    "- **Inning**: Inning of the game  \n",
    "- **inning_half**: Top or Bottom of the inning  \n",
    "- **PAofInning**: Plate appearance of the inning  \n",
    "- **PitchofPA**: Pitch number within the plate appearance  \n",
    "\n",
    "**Pitcher Information**\n",
    "- **Pitcher**: Name of the pitcher  \n",
    "- **PitcherId**: Unique identifier for the pitcher  \n",
    "- **PitcherThrows**: Pitcher's throwing hand (e.g., right or left)  \n",
    "- **PitcherTeam**: Team of the pitcher  \n",
    "\n",
    "**Batter Information**\n",
    "- **Batter**: Name of the batter  \n",
    "- **BatterId**: Unique identifier for the batter  \n",
    "- **BatterSide**: Batter's stance (e.g., right or left)  \n",
    "- **BatterTeam**: Team of the batter  \n",
    "\n",
    "**Catcher Information**\n",
    "- **catcher**: Name of the catcher  \n",
    "- **catcher_id**: Unique identifier for the catcher  \n",
    "- **catcher_team**: Team of the catcher  \n",
    "\n",
    "**Pitch Call and Results**\n",
    "- **PitchCall**: Umpire call for the pitch (e.g., ball, strike)  \n",
    "- **PlayResult**: Outcome of the play (e.g., single, out, home run)  \n",
    "- **KorBB**: Strikeout or base on balls indicator  \n",
    "- **OutsOnPlay**: Number of outs resulting from the play  \n",
    "- **RunsScored**: Runs scored on the play  \n",
    "\n",
    "**Game State**\n",
    "- **Balls**: Count of balls in the at-bat  \n",
    "- **Strikes**: Count of strikes in the at-bat  \n",
    "- **Outs**: Number of outs in the inning  \n",
    "\n",
    "**Pitch Information**\n",
    "- **TaggedPitchType**: Categorized pitch type (e.g., fastball, curveball)  \n",
    "- **RelSpeed**: Release speed of the pitch  \n",
    "- **SpinRate**: Spin rate of the pitch in revolutions per minute  \n",
    "- **SpinAxis**: Orientation of the spin axis (degrees)  \n",
    "- **Tilt**: Clock-style representation of spin axis  \n",
    "- **InducedVertBreak**: Vertical break due to spin (in inches)  \n",
    "- **VertBreak**: Total vertical break (in inches)  \n",
    "- **HorzBreak**: Total horizontal break (in inches)  \n",
    "- **VertApprAngle**: Vertical approach angle at the plate (degrees)  \n",
    "- **HorzApprAngle**: Horizontal approach angle at the plate (degrees)  \n",
    "- **zone_time**: Time to reach the strike zone (seconds)  \n",
    "\n",
    "**Release Metrics**\n",
    "- **vert_rel_angle**: Vertical release angle of the pitch (degrees)  \n",
    "- **horz_rel_angle**: Horizontal release angle of the pitch (degrees)  \n",
    "- **RelHeight**: Release height of the pitch (feet)  \n",
    "- **RelSide**: Horizontal release position relative to the rubber (feet)  \n",
    "- **Extension**: Distance from the mound to the release point (feet)  \n",
    "\n",
    "**Plate Location**\n",
    "- **PlateLocHeight**: Height of the pitch as it crosses the plate (feet)  \n",
    "- **PlateLocSide**: Horizontal location of the pitch at the plate (feet)  \n",
    "\n",
    "**Hit Information**\n",
    "- **TaggedHitType**: Categorized hit type (e.g., ground ball, fly ball)  \n",
    "- **hit_x**: X-coordinate of the hit landing spot (feet)  \n",
    "- **hit_y**: Y-coordinate of the hit landing spot (feet)  \n",
    "- **ExitSpeed**: Exit velocity of the ball off the bat (mph)  \n",
    "- **Angle**: Launch angle of the ball (degrees)  \n",
    "- **HitSpinRate**: Spin rate of the ball off the bat (rpm)  \n",
    "- **hit_spin_axis** Spin axis of the ball off the bat (degrees)  \n",
    "- **Distance**: Total distance of the hit (feet)  \n",
    "- **hit_last_tracked_distance**: Last tracked distance of the ball (feet)  \n",
    "- **hit_hang_time**: Time the ball is in the air (seconds)  \n",
    "- **Direction**: Direction of the hit (e.g., pull, opposite)  \n",
    "- **Bearing**: Bearing of the hit relative to the field (degrees)  \n",
    "- **hit_max_height**: Maximum height of the ball (feet)  \n",
    "- **hit_contact_x**: X-coordinate of the contact point on the bat (inches)  \n",
    "- **hit_contact_y**: Y-coordinate of the contact point on the bat (inches)  \n",
    "- **hit_contact_z**: Z-coordinate of the contact point on the bat (inches)  \n",
    "\n",
    "**Pitch Physics**\n",
    "- **position_110x**: X-position at 110 feet from release point (feet)  \n",
    "- **position_110y**: Y-position at 110 feet from release point (feet)  \n",
    "- **position_110z**: Z-position at 110 feet from release point (feet)  \n",
    "- **pfxx**: Horizontal movement of the pitch (inches)  \n",
    "- **pfxz**: Vertical movement of the pitch (inches)  \n",
    "- **x0**: X-coordinate of the pitch at release (feet)  \n",
    "- **y0**: Y-coordinate of the pitch at release (feet)  \n",
    "- **z0**: Z-coordinate of the pitch at release (feet)  \n",
    "- **vx0**: X-component of velocity at release (mph)  \n",
    "- **vy0**: Y-component of velocity at release (mph)  \n",
    "- **vz0**: Z-component of velocity at release (mph)  \n",
    "- **ax0**: X-component of acceleration (ft/s²)  \n",
    "- **ay0**: Y-component of acceleration (ft/s²)  \n",
    "- **az0**: Z-component of acceleration (ft/s²)  \n",
    "- **EffectiveVelo**: Effective velocity as perceived by the batter (mph)  \n",
    "- **SpeedDrop**: Velocity drop from release to plate (mph)\n",
    "\n",
    "<details>"
   ]
  },
  {
   "cell_type": "markdown",
   "metadata": {},
   "source": [
    "While it may be tempting to immediately remove features such as the inning number, we need to do some critical thinking. The only rows which we should drop outright are those which are either too difficult to process or too variant to be meaningful. For example, pitcher name (which is categorical), and the timestamp are 2 good examples of columns we should just drop. However, info like the inning number is useful and may in fact have a correlation with home runs which should not be glossed over. For example, perhaps pitchers tend to get tired by the 9th inning, and thus give up more home runs. Or alternatively, they \"lock in\" in the final inning to close out a tight game! We don't really know, so it behooves us to keep it in and let analytics to the thinking.\n",
    "\n",
    "With all this said, we will first remove those obvious \"should not use\" features. Note that we choose to not include player information simply because one-hot-encoding all the players would result in too many additional features."
   ]
  },
  {
   "cell_type": "code",
   "execution_count": 40,
   "metadata": {},
   "outputs": [
    {
     "name": "stdout",
     "output_type": "stream",
     "text": [
      "(10230, 67)\n"
     ]
    }
   ],
   "source": [
    "cols_to_drop = [\n",
    "    \"game_id\",\n",
    "    \"Date\",\n",
    "    \"Time\",\n",
    "    \"Pitcher\",\n",
    "    \"PitcherId\",\n",
    "    \"Batter\",\n",
    "    \"BatterId\",\n",
    "    \"catcher\",\n",
    "    \"catcher_id\",\n",
    "    \"catcher_team\"\n",
    "]\n",
    "\n",
    "data = texas_data.drop(columns=cols_to_drop, errors='ignore')\n",
    "\n",
    "print(data.shape)"
   ]
  },
  {
   "cell_type": "markdown",
   "metadata": {},
   "source": [
    "Note that the number of columns is now down from 77 to 67, (minus 10, which is the length of cols_to_drop)"
   ]
  },
  {
   "cell_type": "markdown",
   "metadata": {},
   "source": [
    "As a restatement of our goal, we want to predict wether a given pitch will be a home run given all the data up to (and including) the batter's point of contact. Any information after the fact (like distance, number of runs scored, and the play call) makes it quite easy to infer wether the hit was a home run or not. Thus, we now need to separate all the columns containing after-hit data into a different dataframe. (Not erase it, since it will be useful for accuracy metrics later!)"
   ]
  },
  {
   "cell_type": "code",
   "execution_count": 41,
   "metadata": {},
   "outputs": [
    {
     "name": "stdout",
     "output_type": "stream",
     "text": [
      "(10230, 67)\n",
      "              PitchCall PlayResult      KorBB  OutsOnPlay  RunsScored  \\\n",
      "0                InPlay        Out  Undefined           1           0   \n",
      "1                InPlay     Double  Undefined           0           0   \n",
      "2          StrikeCalled  Undefined  Undefined           0           0   \n",
      "3            BallCalled  Undefined  Undefined           0           0   \n",
      "4  FoulBallNotFieldable  Undefined  Undefined           0           0   \n",
      "\n",
      "  TaggedHitType   hit_x   hit_y  Distance  hit_last_tracked_distance  \\\n",
      "0      fly_ball  136.25  226.40    264.23                     258.01   \n",
      "1      fly_ball  -74.63  349.69    357.56                     357.56   \n",
      "2           NaN     NaN     NaN       NaN                        NaN   \n",
      "3           NaN     NaN     NaN       NaN                        NaN   \n",
      "4      fly_ball -249.18  214.98    329.11                     325.88   \n",
      "\n",
      "   hit_hang_time  Direction  Bearing  hit_max_height TaggedPitchType  \n",
      "0           3.27      23.07    31.04           35.12        Fastball  \n",
      "1           4.26      -4.79   -12.05           56.00        Fastball  \n",
      "2            NaN        NaN      NaN             NaN        Fastball  \n",
      "3            NaN        NaN      NaN             NaN       Curveball  \n",
      "4           4.19     -36.75   -49.21           63.58        Fastball  \n",
      "\n",
      "Pre-hit / Training Data Shape: (10230, 52)\n",
      "After-hit / Testing Data Shape: (10230, 15)\n"
     ]
    }
   ],
   "source": [
    "after_hit_cols = [\n",
    "    \"PitchCall\",\n",
    "    \"PlayResult\",\n",
    "    \"KorBB\",\n",
    "    \"OutsOnPlay\",\n",
    "    \"RunsScored\",\n",
    "    \"TaggedHitType\",\n",
    "    \"hit_x\",\n",
    "    \"hit_y\",\n",
    "    \"Distance\",\n",
    "    \"hit_last_tracked_distance\",\n",
    "    \"hit_hang_time\",\n",
    "    \"Direction\",\n",
    "    \"Bearing\",\n",
    "    \"hit_max_height\",\n",
    "    \"TaggedPitchType\"\n",
    "]\n",
    "\n",
    "#Print before size\n",
    "print(data.shape)\n",
    "\n",
    "after_hit_data = data[after_hit_cols]\n",
    "data = data.drop(columns=after_hit_cols)\n",
    "\n",
    "print(after_hit_data.head())\n",
    "\n",
    "#Print after sizes to confirm proper split\n",
    "print()\n",
    "print(\"Pre-hit / Training Data Shape: \"+str(data.shape))\n",
    "print(\"After-hit / Testing Data Shape: \"+str(after_hit_data.shape))"
   ]
  },
  {
   "cell_type": "markdown",
   "metadata": {},
   "source": [
    "Now we have isolated our pre-hit data to just 53 rows, and our post-hit data, containing 15 rows"
   ]
  },
  {
   "cell_type": "markdown",
   "metadata": {},
   "source": [
    "This is good enough for preliminary data cleaning. Now we explore the data to better understand our features and what we need to consider when modeling!"
   ]
  },
  {
   "cell_type": "markdown",
   "metadata": {},
   "source": [
    "### Data Exploration"
   ]
  },
  {
   "cell_type": "markdown",
   "metadata": {},
   "source": [
    "To get a very overall feel for the data, we want to take a look at the correlations between the remaining columns and see how they are related to home runs"
   ]
  },
  {
   "cell_type": "code",
   "execution_count": 47,
   "metadata": {},
   "outputs": [
    {
     "name": "stdout",
     "output_type": "stream",
     "text": [
      "Categorical Features:\n",
      "Index(['inning_half', 'PitcherThrows', 'PitcherTeam', 'BatterSide',\n",
      "       'BatterTeam'],\n",
      "      dtype='object')\n",
      "\n",
      "Numerical Features: \n",
      "Index(['PitchNo', 'Inning', 'PAofInning', 'PitchofPA', 'Balls', 'Strikes',\n",
      "       'Outs', 'RelSpeed', 'SpinRate', 'SpinAxis', 'Tilt', 'InducedVertBreak',\n",
      "       'VertBreak', 'HorzBreak', 'VertApprAngle', 'HorzApprAngle',\n",
      "       'vert_rel_angle', 'horz_rel_angle', 'RelHeight', 'RelSide', 'Extension',\n",
      "       'PlateLocHeight', 'PlateLocSide', 'zone_time', 'EffectiveVelo',\n",
      "       'SpeedDrop', 'ExitSpeed', 'Angle', 'HitSpinRate', 'hit_spin_axis',\n",
      "       'hit_contact_x', 'hit_contact_y', 'hit_contact_z', 'position_110x',\n",
      "       'position_110y', 'position_110z', 'pfxx', 'pfxz', 'x0', 'y0', 'z0',\n",
      "       'vx0', 'vy0', 'vz0', 'ax0', 'ay0', 'az0', 'IsHomeRun'],\n",
      "      dtype='object')\n",
      "\n",
      "IsHomeRun           1.000000\n",
      "ExitSpeed           0.208884\n",
      "position_110x       0.102694\n",
      "hit_contact_x       0.073320\n",
      "position_110y       0.062656\n",
      "Angle               0.040401\n",
      "PitchofPA           0.038568\n",
      "InducedVertBreak    0.036447\n",
      "az0                 0.036113\n",
      "pfxz                0.035183\n",
      "VertBreak           0.032334\n",
      "VertApprAngle       0.031857\n",
      "Balls               0.031732\n",
      "hit_contact_y       0.025605\n",
      "Strikes             0.024268\n",
      "HorzBreak           0.020665\n",
      "PlateLocSide        0.019157\n",
      "EffectiveVelo       0.018854\n",
      "SpinAxis            0.017648\n",
      "RelSpeed            0.017232\n",
      "hit_spin_axis       0.012513\n",
      "Outs                0.010682\n",
      "PlateLocHeight      0.009716\n",
      "PAofInning          0.008797\n",
      "Extension           0.008303\n",
      "HorzApprAngle       0.008132\n",
      "vx0                 0.006742\n",
      "SpeedDrop           0.006529\n",
      "ay0                 0.005880\n",
      "RelSide             0.005438\n",
      "RelHeight           0.002448\n",
      "z0                  0.000286\n",
      "PitchNo            -0.002403\n",
      "hit_contact_z      -0.002732\n",
      "Tilt               -0.002865\n",
      "Inning             -0.003262\n",
      "SpinRate           -0.003478\n",
      "x0                 -0.005158\n",
      "horz_rel_angle     -0.007670\n",
      "vz0                -0.007865\n",
      "vert_rel_angle     -0.010806\n",
      "vy0                -0.017785\n",
      "zone_time          -0.018143\n",
      "ax0                -0.019217\n",
      "pfxx               -0.020028\n",
      "position_110z      -0.035295\n",
      "HitSpinRate        -0.100582\n",
      "y0                       NaN\n",
      "Name: IsHomeRun, dtype: float64\n"
     ]
    }
   ],
   "source": [
    "#Create an \"IsHomeRun\" label column\n",
    "data['IsHomeRun'] = (after_hit_data['PlayResult'] == 'HomeRun').astype(int)\n",
    "\n",
    "#Check if there are any categorical  columns left\n",
    "categorical_features = data.select_dtypes(exclude=[\"number\"]).columns\n",
    "print(\"Categorical Features:\")\n",
    "print(categorical_features) \n",
    "print()\n",
    "\n",
    "#There are 5, but we will keep those for the feature engineering section. So we temporarily drop them.\n",
    "# Drop all columns that aren't numerical\n",
    "numerical_features = data.select_dtypes(include=['float64', 'int64']).columns\n",
    "print(\"Numerical Features: \")\n",
    "print(numerical_features)\n",
    "print()\n",
    "\n",
    "## Calculate correlations with IsHomeRun\n",
    "home_run_corr = data[numerical_features].corr()['IsHomeRun'].sort_values(ascending=False)\n",
    "\n",
    "# Display the correlations\n",
    "pd.set_option('display.max_rows', None)\n",
    "print(home_run_corr)"
   ]
  },
  {
   "cell_type": "markdown",
   "metadata": {},
   "source": [
    "The results of this are quite interesting - they show that the highest correlated features are the Exit speed, contact positions, and the Pitch of Plate Appearance! Reasonably, they are mostly related to the hit itself rather than the pitch."
   ]
  },
  {
   "cell_type": "markdown",
   "metadata": {},
   "source": [
    "### Feature Engineering"
   ]
  },
  {
   "cell_type": "markdown",
   "metadata": {},
   "source": [
    "Now we get to feature engineering. There are some notable categorical features that we want to one-hot encode or turn into binary variables, to allow convenient modeling. These operations are shown below.\n"
   ]
  },
  {
   "cell_type": "code",
   "execution_count": null,
   "metadata": {},
   "outputs": [
    {
     "name": "stdout",
     "output_type": "stream",
     "text": [
      "TaggedPitchType\n",
      "3.0    4040\n",
      "5.0    2778\n",
      "4.0    1575\n",
      "0.0     960\n",
      "1.0     496\n",
      "2.0     330\n",
      "6.0      25\n",
      "Name: count, dtype: int64\n",
      "\n",
      "TaggedPitchType\n",
      "3.0    4040\n",
      "5.0    2778\n",
      "4.0    1575\n",
      "0.0     960\n",
      "1.0     496\n",
      "2.0     330\n",
      "6.0      25\n",
      "Name: count, dtype: int64\n",
      "0        3.0\n",
      "1        3.0\n",
      "2        3.0\n",
      "3        1.0\n",
      "4        3.0\n",
      "        ... \n",
      "10225    3.0\n",
      "10226    3.0\n",
      "10227    3.0\n",
      "10228    3.0\n",
      "10229    4.0\n",
      "Name: TaggedPitchType, Length: 10228, dtype: float64\n",
      "0        3.0\n",
      "1        3.0\n",
      "2        3.0\n",
      "3        1.0\n",
      "4        3.0\n",
      "        ... \n",
      "10225    3.0\n",
      "10226    3.0\n",
      "10227    3.0\n",
      "10228    3.0\n",
      "10229    4.0\n",
      "Name: TaggedPitchType, Length: 10228, dtype: float64\n"
     ]
    }
   ],
   "source": [
    "from sklearn.preprocessing import OrdinalEncoder\n",
    "\n",
    "numerical = [\n",
    "    \"PitcherThrows\",\n",
    "    \"PitcherTeam\",\n",
    "    \"BatterSide\",\n",
    "    \"BatterTeam\",\n",
    "    \"TaggedPitchType\",\n",
    "    #\n",
    "    \"inning_half\"\n",
    "]\n",
    "\n",
    "#Make the handed-ness and Teams a boolean value\n",
    "data[\"PitcherThrows\"] = data[\"PitcherThrows\"].map({\"L\":0, \"R\":1})\n",
    "data[\"PitcherTeam\"] = (data[\"PitcherTeam\"] == \"TEX_LON\").astype(int)\n",
    "data[\"BatterSide\"] = data[\"BatterSide\"].map({\"L\":0, \"R\":1})\n",
    "data[\"BatterTeam\"] = (data[\"BatterTeam\"] == \"TEX_LON\").astype(int)\n",
    "data[\"inning_half\"]\n",
    "\n",
    "#We also want to engineer this new feature indicating the\n",
    "#handed-ness matchup. Statistically, L/L or R/R favors the pitcher\n",
    "#while L/R or R/L favors the batter. We want to represent this as \n",
    "#a new feature!\n",
    "data[\"Sidematchup\"] = (data[\"PitcherThrows\"] == data[\"BatterSide\"]).astype(int)\n",
    "\n",
    "\n"
   ]
  },
  {
   "cell_type": "code",
   "execution_count": null,
   "metadata": {},
   "outputs": [],
   "source": [
    "#Analysis on TaggedPitchType shows 9 values\n",
    "print(data[\"TaggedPitchType\"].value_counts())\n",
    "print()\n",
    "\n",
    "#Remove the Knuckleball and Four-seam\n",
    "knuckle_four_rows = data[data[\"TaggedPitchType\"].isin([\"Knuckleball\", \"Four-Seam\"])].index\n",
    "data = data.drop(knuckle_four_rows)\n",
    "print(data[\"TaggedPitchType\"].value_counts()) #This shows that we removed the properly\n",
    "\n",
    "#Encode the TaggedPitchType Ordinally\n",
    "encoder = OrdinalEncoder()\n",
    "print(data[\"TaggedPitchType\"])\n",
    "\n",
    "data[\"TaggedPitchType\"] = encoder.fit_transform(data[[\"TaggedPitchType\"]])\n",
    "print(data[\"TaggedPitchType\"])"
   ]
  },
  {
   "cell_type": "markdown",
   "metadata": {},
   "source": [
    "## Modeling"
   ]
  },
  {
   "cell_type": "markdown",
   "metadata": {},
   "source": [
    "### Decision Trees (Cristian)"
   ]
  },
  {
   "cell_type": "markdown",
   "metadata": {},
   "source": [
    "### Neural Nets ()"
   ]
  },
  {
   "cell_type": "markdown",
   "metadata": {},
   "source": [
    "### SVM"
   ]
  },
  {
   "cell_type": "markdown",
   "metadata": {},
   "source": [
    "## Outcome"
   ]
  }
 ],
 "metadata": {
  "kernelspec": {
   "display_name": "venv",
   "language": "python",
   "name": "python3"
  },
  "language_info": {
   "codemirror_mode": {
    "name": "ipython",
    "version": 3
   },
   "file_extension": ".py",
   "mimetype": "text/x-python",
   "name": "python",
   "nbconvert_exporter": "python",
   "pygments_lexer": "ipython3",
   "version": "3.11.9"
  }
 },
 "nbformat": 4,
 "nbformat_minor": 2
}
