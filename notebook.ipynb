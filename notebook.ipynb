{
 "cells": [
  {
   "cell_type": "markdown",
   "metadata": {},
   "source": [
    "# CS 363M Machine Learning Project"
   ]
  },
  {
   "cell_type": "markdown",
   "metadata": {},
   "source": [
    "## Authors\n",
    "- Hudson Gould (HAG929)\n",
    "- Cristian Cantu (cjc5844)\n",
    "- Diego Costa (dc48222)\n",
    "- Dylan Dang (dad4364)"
   ]
  },
  {
   "cell_type": "markdown",
   "metadata": {},
   "source": [
    "## Background\n",
    "In this project, we are using data from the UT Baseball 2024 Season. Our dataset contains data from every single pitch during UT home games, taken from a TrackMan brand detection machine which tracks and records 3D characteristic of a baseball in motion.\n",
    "\n",
    "We want to use this data to predict whether a given pitch will be a home run or not. We will use information such as the pitch velocities to predict this."
   ]
  },
  {
   "cell_type": "markdown",
   "metadata": {},
   "source": [
    "## Data Preparation"
   ]
  },
  {
   "cell_type": "markdown",
   "metadata": {},
   "source": [
    "### Import packages"
   ]
  },
  {
   "cell_type": "code",
   "execution_count": 4,
   "metadata": {},
   "outputs": [],
   "source": [
    "import pandas as pd\n",
    "import matplotlib.pyplot as plt\n",
    "import numpy as np\n",
    "import scipy.stats as spstats\n",
    "import seaborn as sns\n",
    "%matplotlib inline"
   ]
  },
  {
   "cell_type": "markdown",
   "metadata": {},
   "source": [
    "### Data Cleaning"
   ]
  },
  {
   "cell_type": "markdown",
   "metadata": {},
   "source": [
    "#### Print head of the data"
   ]
  },
  {
   "cell_type": "code",
   "execution_count": null,
   "metadata": {},
   "outputs": [
    {
     "data": {
      "text/html": [
       "<div>\n",
       "<style scoped>\n",
       "    .dataframe tbody tr th:only-of-type {\n",
       "        vertical-align: middle;\n",
       "    }\n",
       "\n",
       "    .dataframe tbody tr th {\n",
       "        vertical-align: top;\n",
       "    }\n",
       "\n",
       "    .dataframe thead th {\n",
       "        text-align: right;\n",
       "    }\n",
       "</style>\n",
       "<table border=\"1\" class=\"dataframe\">\n",
       "  <thead>\n",
       "    <tr style=\"text-align: right;\">\n",
       "      <th></th>\n",
       "      <th>game_id</th>\n",
       "      <th>Date</th>\n",
       "      <th>Time</th>\n",
       "      <th>PitchNo</th>\n",
       "      <th>Inning</th>\n",
       "      <th>inning_half</th>\n",
       "      <th>PAofInning</th>\n",
       "      <th>PitchofPA</th>\n",
       "      <th>Pitcher</th>\n",
       "      <th>PitcherId</th>\n",
       "      <th>...</th>\n",
       "      <th>z0</th>\n",
       "      <th>vx0</th>\n",
       "      <th>vy0</th>\n",
       "      <th>vz0</th>\n",
       "      <th>ax0</th>\n",
       "      <th>ay0</th>\n",
       "      <th>az0</th>\n",
       "      <th>catcher</th>\n",
       "      <th>catcher_id</th>\n",
       "      <th>catcher_team</th>\n",
       "    </tr>\n",
       "  </thead>\n",
       "  <tbody>\n",
       "    <tr>\n",
       "      <th>0</th>\n",
       "      <td>20240220-HighPointUniversity-1</td>\n",
       "      <td>2/20/2024</td>\n",
       "      <td>60314</td>\n",
       "      <td>82</td>\n",
       "      <td>3</td>\n",
       "      <td>Top</td>\n",
       "      <td>4</td>\n",
       "      <td>2</td>\n",
       "      <td>Olsovsky, Dalton</td>\n",
       "      <td>1000251274</td>\n",
       "      <td>...</td>\n",
       "      <td>5.41</td>\n",
       "      <td>3.28</td>\n",
       "      <td>-106.58</td>\n",
       "      <td>0.58</td>\n",
       "      <td>12.91</td>\n",
       "      <td>22.07</td>\n",
       "      <td>-34.04</td>\n",
       "      <td>Ruiz, Justin</td>\n",
       "      <td>1000208999</td>\n",
       "      <td>HIG_PAN</td>\n",
       "    </tr>\n",
       "    <tr>\n",
       "      <th>1</th>\n",
       "      <td>20240220-HighPointUniversity-1</td>\n",
       "      <td>2/20/2024</td>\n",
       "      <td>63576</td>\n",
       "      <td>185</td>\n",
       "      <td>6</td>\n",
       "      <td>Top</td>\n",
       "      <td>2</td>\n",
       "      <td>3</td>\n",
       "      <td>Glover, Lucas</td>\n",
       "      <td>1000138461</td>\n",
       "      <td>...</td>\n",
       "      <td>6.01</td>\n",
       "      <td>5.23</td>\n",
       "      <td>-118.11</td>\n",
       "      <td>-3.37</td>\n",
       "      <td>3.74</td>\n",
       "      <td>26.71</td>\n",
       "      <td>-27.88</td>\n",
       "      <td>Ruiz, Justin</td>\n",
       "      <td>1000208999</td>\n",
       "      <td>HIG_PAN</td>\n",
       "    </tr>\n",
       "    <tr>\n",
       "      <th>2</th>\n",
       "      <td>20240220-HighPointUniversity-1</td>\n",
       "      <td>2/20/2024</td>\n",
       "      <td>66446</td>\n",
       "      <td>269</td>\n",
       "      <td>8</td>\n",
       "      <td>Top</td>\n",
       "      <td>3</td>\n",
       "      <td>1</td>\n",
       "      <td>Carter, Noah</td>\n",
       "      <td>1000108939</td>\n",
       "      <td>...</td>\n",
       "      <td>5.52</td>\n",
       "      <td>3.08</td>\n",
       "      <td>-122.94</td>\n",
       "      <td>-1.77</td>\n",
       "      <td>-3.68</td>\n",
       "      <td>24.28</td>\n",
       "      <td>-16.89</td>\n",
       "      <td>Grintz, Eric</td>\n",
       "      <td>686456</td>\n",
       "      <td>HIG_PAN</td>\n",
       "    </tr>\n",
       "    <tr>\n",
       "      <th>3</th>\n",
       "      <td>20240220-HighPointUniversity-1</td>\n",
       "      <td>2/20/2024</td>\n",
       "      <td>64809</td>\n",
       "      <td>216</td>\n",
       "      <td>6</td>\n",
       "      <td>Bottom</td>\n",
       "      <td>6</td>\n",
       "      <td>1</td>\n",
       "      <td>Welch, Collin</td>\n",
       "      <td>1000192105</td>\n",
       "      <td>...</td>\n",
       "      <td>6.23</td>\n",
       "      <td>0.38</td>\n",
       "      <td>-117.74</td>\n",
       "      <td>-0.37</td>\n",
       "      <td>-12.27</td>\n",
       "      <td>24.59</td>\n",
       "      <td>-28.63</td>\n",
       "      <td>Church, Braxton</td>\n",
       "      <td>1000192101</td>\n",
       "      <td>APP_MOU</td>\n",
       "    </tr>\n",
       "    <tr>\n",
       "      <th>4</th>\n",
       "      <td>20240220-HighPointUniversity-1</td>\n",
       "      <td>2/20/2024</td>\n",
       "      <td>67985</td>\n",
       "      <td>308</td>\n",
       "      <td>9</td>\n",
       "      <td>Bottom</td>\n",
       "      <td>4</td>\n",
       "      <td>3</td>\n",
       "      <td>Lewis, Zach</td>\n",
       "      <td>1000127413</td>\n",
       "      <td>...</td>\n",
       "      <td>5.18</td>\n",
       "      <td>9.62</td>\n",
       "      <td>-132.57</td>\n",
       "      <td>-10.20</td>\n",
       "      <td>-8.59</td>\n",
       "      <td>32.05</td>\n",
       "      <td>-14.93</td>\n",
       "      <td>Church, Braxton</td>\n",
       "      <td>1000192101</td>\n",
       "      <td>APP_MOU</td>\n",
       "    </tr>\n",
       "  </tbody>\n",
       "</table>\n",
       "<p>5 rows × 77 columns</p>\n",
       "</div>"
      ],
      "text/plain": [
       "                          game_id       Date   Time  PitchNo  Inning  \\\n",
       "0  20240220-HighPointUniversity-1  2/20/2024  60314       82       3   \n",
       "1  20240220-HighPointUniversity-1  2/20/2024  63576      185       6   \n",
       "2  20240220-HighPointUniversity-1  2/20/2024  66446      269       8   \n",
       "3  20240220-HighPointUniversity-1  2/20/2024  64809      216       6   \n",
       "4  20240220-HighPointUniversity-1  2/20/2024  67985      308       9   \n",
       "\n",
       "  inning_half  PAofInning  PitchofPA           Pitcher   PitcherId  ...    z0  \\\n",
       "0         Top           4          2  Olsovsky, Dalton  1000251274  ...  5.41   \n",
       "1         Top           2          3     Glover, Lucas  1000138461  ...  6.01   \n",
       "2         Top           3          1      Carter, Noah  1000108939  ...  5.52   \n",
       "3      Bottom           6          1     Welch, Collin  1000192105  ...  6.23   \n",
       "4      Bottom           4          3       Lewis, Zach  1000127413  ...  5.18   \n",
       "\n",
       "    vx0     vy0    vz0    ax0    ay0    az0          catcher  catcher_id  \\\n",
       "0  3.28 -106.58   0.58  12.91  22.07 -34.04     Ruiz, Justin  1000208999   \n",
       "1  5.23 -118.11  -3.37   3.74  26.71 -27.88     Ruiz, Justin  1000208999   \n",
       "2  3.08 -122.94  -1.77  -3.68  24.28 -16.89     Grintz, Eric      686456   \n",
       "3  0.38 -117.74  -0.37 -12.27  24.59 -28.63  Church, Braxton  1000192101   \n",
       "4  9.62 -132.57 -10.20  -8.59  32.05 -14.93  Church, Braxton  1000192101   \n",
       "\n",
       "   catcher_team  \n",
       "0       HIG_PAN  \n",
       "1       HIG_PAN  \n",
       "2       HIG_PAN  \n",
       "3       APP_MOU  \n",
       "4       APP_MOU  \n",
       "\n",
       "[5 rows x 77 columns]"
      ]
     },
     "execution_count": 9,
     "metadata": {},
     "output_type": "execute_result"
    }
   ],
   "source": [
    "data = pd.read_csv('data_10k.csv')\n",
    "\n",
    "data.head()\n",
    "\n",
    "columns_to_keep = [\n",
    "    # target and core features\n",
    "    'PlayResult',  \n",
    "    'RunsScored',          \n",
    "    'RelSpeed',            \n",
    "    'SpinRate',            \n",
    "    'SpinAxis',            \n",
    "    'ExitSpeed',           \n",
    "    'Angle',               \n",
    "    'Distance',            \n",
    "    'HangTime',           \n",
    "    'VertBreak',          \n",
    "    'InducedVertBreak',    \n",
    "    'HorzBreak',           \n",
    "    'PlateLocHeight',      \n",
    "    'PlateLocSide',        \n",
    "    'Direction',           \n",
    "\n",
    "    'MaxHeight',           \n",
    "    'MeasuredDuration',    \n",
    "    'SpeedDrop',           \n",
    "    'ContactPositionX', 'ContactPositionY', 'ContactPositionZ', \n",
    "    'HitSpinAxis',         \n",
    "    'HitTrajectoryXc0', 'HitTrajectoryXc1', 'HitTrajectoryXc2',  \n",
    "    'HitTrajectoryYc0', 'HitTrajectoryYc1', 'HitTrajectoryYc2',  \n",
    "    'HitTrajectoryZc0', 'HitTrajectoryZc1', 'HitTrajectoryZc2'   \n",
    "]\n",
    "\n",
    "data = data[columns_to_keep]"
   ]
  },
  {
   "cell_type": "markdown",
   "metadata": {},
   "source": [
    "### Data Exploration"
   ]
  },
  {
   "cell_type": "code",
   "execution_count": null,
   "metadata": {},
   "outputs": [
    {
     "name": "stdout",
     "output_type": "stream",
     "text": [
      "Date           : ['2/20/2024' '2/21/2024']\n",
      "inning_half    : ['Top' 'Bottom']\n",
      "PitcherThrows  : ['R' 'L']\n",
      "BatterSide     : ['R' 'L']\n",
      "PitchCall      : ['StrikeCalled' 'HitByPitch' 'BallCalled' 'InPlay' 'FoulBall'\n",
      " 'StrikeSwinging' 'BallinDirt' 'FoulBallNotFieldable' 'BallIntentional'\n",
      " 'FoulBallFieldable']\n",
      "PlayResult     : ['Undefined' 'Strikeout' 'Single' 'FieldersChoice' 'Out' 'Double' 'Walk'\n",
      " 'Sacrifice' 'HomeRun' 'Error' 'Triple' 'StolenBase' 'CaughtStealing']\n",
      "KorBB          : ['Undefined' 'Strikeout' 'Walk']\n",
      "TaggedPitchType: ['Slider' 'Fastball' 'ChangeUp' 'Curveball' 'Sinker' 'Cutter'\n",
      " 'Knuckleball' 'Changeup' 'Four-Seam' nan 'Splitter' 'FourSeamFastBall'\n",
      " 'TwoSeamFastBall']\n",
      "TaggedHitType  : [nan 'fly_ball' 'line_drive' 'pop_up' 'ground_ball']\n"
     ]
    }
   ],
   "source": [
    "cols = data.select_dtypes(include=['object', 'category']).columns\n",
    "cols = cols.drop(['game_id', 'Pitcher', 'PitcherTeam', 'Batter', 'BatterTeam', 'catcher', 'catcher_team'])\n",
    "\n",
    "max_col_width = max(len(col) for col in cols)\n",
    "\n",
    "for col in cols:\n",
    "    print(f'{col:<{max_col_width}}: {data[col].unique()}')"
   ]
  },
  {
   "cell_type": "code",
   "execution_count": 50,
   "metadata": {},
   "outputs": [
    {
     "name": "stdout",
     "output_type": "stream",
     "text": [
      "TaggedPitchType                30\n",
      "RelSpeed                       48\n",
      "SpinRate                       58\n",
      "SpinAxis                       48\n",
      "Tilt                           48\n",
      "InducedVertBreak               48\n",
      "VertBreak                      48\n",
      "HorzBreak                      48\n",
      "VertApprAngle                  48\n",
      "HorzApprAngle                  48\n",
      "vert_rel_angle                 48\n",
      "horz_rel_angle                 48\n",
      "RelHeight                      48\n",
      "RelSide                        48\n",
      "Extension                      52\n",
      "PlateLocHeight                 48\n",
      "PlateLocSide                   48\n",
      "zone_time                      48\n",
      "EffectiveVelo                  48\n",
      "SpeedDrop                      48\n",
      "TaggedHitType                7507\n",
      "hit_x                        8219\n",
      "hit_y                        8219\n",
      "ExitSpeed                    7507\n",
      "Angle                        7507\n",
      "HitSpinRate                  8146\n",
      "hit_spin_axis                8306\n",
      "Distance                     8219\n",
      "hit_last_tracked_distance    7507\n",
      "hit_hang_time                8219\n",
      "Direction                    7507\n",
      "Bearing                      8219\n",
      "hit_max_height               7507\n",
      "hit_contact_x                7545\n",
      "hit_contact_y                7545\n",
      "hit_contact_z                7545\n",
      "position_110x                9086\n",
      "position_110y                9086\n",
      "position_110z                9086\n",
      "pfxx                           48\n",
      "pfxz                           48\n",
      "x0                             48\n",
      "y0                             48\n",
      "z0                             48\n",
      "vx0                            48\n",
      "vy0                            48\n",
      "vz0                            48\n",
      "ax0                            48\n",
      "ay0                            48\n",
      "az0                            48\n",
      "dtype: int64\n"
     ]
    }
   ],
   "source": [
    "# print number of missing values in each column\n",
    "missing = data.isnull().sum()\n",
    "print(missing[missing > 0])"
   ]
  },
  {
   "cell_type": "code",
   "execution_count": 52,
   "metadata": {},
   "outputs": [
    {
     "name": "stdout",
     "output_type": "stream",
     "text": [
      "PlayResult\n",
      "Undefined         7495\n",
      "Out                835\n",
      "Strikeout          575\n",
      "Single             388\n",
      "Walk               323\n",
      "Double             118\n",
      "HomeRun             66\n",
      "Sacrifice           54\n",
      "FieldersChoice      47\n",
      "Error               46\n",
      "StolenBase          28\n",
      "CaughtStealing      13\n",
      "Triple              11\n",
      "Name: count, dtype: int64\n"
     ]
    }
   ],
   "source": [
    "print(data['PlayResult'].value_counts())"
   ]
  },
  {
   "cell_type": "code",
   "execution_count": 9,
   "metadata": {},
   "outputs": [
    {
     "data": {
      "image/png": "[encoded data removed]",
      "text/plain": [
       "<Figure size 640x480 with 1 Axes>"
      ]
     },
     "metadata": {},
     "output_type": "display_data"
    }
   ],
   "source": [
    "plt.figure()\n",
    "sns.boxplot(x='PlayResult', y='Distance', data=data)\n",
    "plt.xlabel('Play Results')\n",
    "plt.ylabel('Distance')\n",
    "plt.xticks(rotation=90)\n",
    "plt.show()"
   ]
  },
  {
   "cell_type": "code",
   "execution_count": null,
   "metadata": {},
   "outputs": [
    {
     "name": "stdout",
     "output_type": "stream",
     "text": [
      "IsHomeRun                    1.000000\n",
      "RunsScored                   0.526636\n",
      "hit_last_tracked_distance    0.337569\n",
      "Distance                     0.327059\n",
      "hit_y                        0.315036\n",
      "hit_hang_time                0.246433\n",
      "ExitSpeed                    0.198423\n",
      "hit_max_height               0.153468\n",
      "position_110x                0.070841\n",
      "hit_contact_x                0.068017\n",
      "Angle                        0.042155\n",
      "position_110y                0.039385\n",
      "PitchofPA                    0.037337\n",
      "Balls                        0.028325\n",
      "Strikes                      0.025754\n",
      "PitcherId                    0.016385\n",
      "HorzBreak                    0.015899\n",
      "catcher_id                   0.014210\n",
      "Extension                    0.013043\n",
      "InducedVertBreak             0.012919\n",
      "pfxz                         0.012479\n",
      "VertApprAngle                0.012105\n",
      "az0                          0.010826\n",
      "VertBreak                    0.010763\n",
      "SpinAxis                     0.009017\n",
      "PAofInning                   0.008517\n",
      "HorzApprAngle                0.007868\n",
      "PlateLocSide                 0.007286\n",
      "PlateLocHeight               0.006171\n",
      "SpeedDrop                    0.005122\n",
      "vx0                          0.005012\n",
      "RelSide                      0.003626\n",
      "ay0                          0.003127\n",
      "EffectiveVelo                0.002553\n",
      "RelSpeed                     0.000584\n",
      "Outs                         0.000488\n",
      "vz0                          0.000050\n",
      "vy0                         -0.001121\n",
      "vert_rel_angle              -0.002138\n",
      "Time                        -0.003318\n",
      "x0                          -0.003344\n",
      "RelHeight                   -0.003951\n",
      "hit_contact_y               -0.004339\n",
      "z0                          -0.004628\n",
      "BatterId                    -0.004642\n",
      "zone_time                   -0.004782\n",
      "hit_contact_z               -0.004799\n",
      "horz_rel_angle              -0.006673\n",
      "Direction                   -0.013656\n",
      "ax0                         -0.013920\n",
      "PitchNo                     -0.013983\n",
      "Bearing                     -0.014018\n",
      "Inning                      -0.015622\n",
      "pfxx                        -0.015835\n",
      "Tilt                        -0.016777\n",
      "SpinRate                    -0.018463\n",
      "position_110z               -0.021376\n",
      "hit_spin_axis               -0.024879\n",
      "OutsOnPlay                  -0.026176\n",
      "hit_x                       -0.037647\n",
      "HitSpinRate                 -0.109330\n",
      "y0                                NaN\n",
      "Name: IsHomeRun, dtype: float64\n"
     ]
    }
   ],
   "source": [
    "data = pd.read_csv('data_10k.csv')\n",
    "\n",
    "# Trying to plot a heatmap of correlations between all the features and PlayResult = Homerun\n",
    "import pandas as pd\n",
    "\n",
    "# Ensure IsHomeRun is defined as a binary column\n",
    "data['IsHomeRun'] = (data['PlayResult'] == 'HomeRun').astype(int)\n",
    "\n",
    "# Select numerical columns\n",
    "numerical_features = data.select_dtypes(include=['float64', 'int64']).columns\n",
    "\n",
    "# Calculate correlations with IsHomeRun\n",
    "home_run_corr = data[numerical_features].corr()['IsHomeRun'].sort_values(ascending=False)\n",
    "\n",
    "# Display the correlations\n",
    "pd.set_option('display.max_rows', None)\n",
    "print(home_run_corr)"
   ]
  },
  {
   "cell_type": "markdown",
   "metadata": {},
   "source": [
    "### Feature Engineering"
   ]
  },
  {
   "cell_type": "markdown",
   "metadata": {},
   "source": [
    "## Modeling"
   ]
  },
  {
   "cell_type": "markdown",
   "metadata": {},
   "source": [
    "### Decision Trees (Cristian)"
   ]
  },
  {
   "cell_type": "markdown",
   "metadata": {},
   "source": [
    "### Neural Nets (Hudson)"
   ]
  },
  {
   "cell_type": "markdown",
   "metadata": {},
   "source": [
    "### SVM"
   ]
  },
  {
   "cell_type": "markdown",
   "metadata": {},
   "source": [
    "## Outcome"
   ]
  }
 ],
 "metadata": {
  "kernelspec": {
   "display_name": "venv",
   "language": "python",
   "name": "python3"
  },
  "language_info": {
   "codemirror_mode": {
    "name": "ipython",
    "version": 3
   },
   "file_extension": ".py",
   "mimetype": "text/x-python",
   "name": "python",
   "nbconvert_exporter": "python",
   "pygments_lexer": "ipython3",
   "version": "3.11.9"
  }
 },
 "nbformat": 4,
 "nbformat_minor": 2
}
