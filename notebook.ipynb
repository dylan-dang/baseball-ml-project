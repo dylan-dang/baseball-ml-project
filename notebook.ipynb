{
 "cells": [
  {
   "cell_type": "markdown",
   "metadata": {},
   "source": [
    "# CS 363M Machine Learning Project"
   ]
  },
  {
   "cell_type": "markdown",
   "metadata": {},
   "source": [
    "## Authors\n",
    "- Hudson Gould (HAG929)\n",
    "- Cristian Cantu (cjc5844)\n",
    "- Diego Costa (dc48222)\n",
    "- Dylan Dang (dad4364)"
   ]
  },
  {
   "cell_type": "markdown",
   "metadata": {},
   "source": [
    "## Background\n",
    "\n",
    "\n",
    "\n",
    "In this project, we want to predict wether or not a given baseball pitch will be a home run or not. This is an interesting problem because it could be used to better predict the outcomes of baseball games in advance (at least in terms of number of homeruns). Alternatively, one can calculate the probability of a given pitch being a home run *during* the pitch itself (though the outcome will be evident seconds after).\n",
    "\n",
    "To do this, we are using data from the UT Baseball 2024 Season. Our dataset contains data from every single pitch during UT home games, taken from a TrackMan brand detection machine which tracks and records 3D characteristic of a baseball in motion.\n",
    "\n",
    "We want to use this data to predict whether a given pitch will be a home run or not. We will use information such as the pitch velocities, runs scored, and other pitch information to predict this. This ML problem is especially interesting, as it suffers from a massive imbalance of classes - far more of the pitches are NOT homeruns, compared to those that are. (Reminiscent of the \"predicting credit card fraud\" problem). This means that our data will have to be carefully pruned and our modeling techniques must be jucicious to avoid a too-high false negative rate.\n",
    "\n"
   ]
  },
  {
   "cell_type": "markdown",
   "metadata": {},
   "source": [
    "## Data Preparation"
   ]
  },
  {
   "cell_type": "markdown",
   "metadata": {},
   "source": [
    "### Import packages"
   ]
  },
  {
   "cell_type": "code",
   "execution_count": 3,
   "metadata": {},
   "outputs": [],
   "source": [
    "import pandas as pd\n",
    "import matplotlib.pyplot as plt\n",
    "import numpy as np\n",
    "import scipy.stats as spstats\n",
    "import seaborn as sns\n",
    "import pandas as pd\n",
    "%matplotlib inline"
   ]
  },
  {
   "cell_type": "markdown",
   "metadata": {},
   "source": [
    "### Data Cleaning"
   ]
  },
  {
   "cell_type": "markdown",
   "metadata": {},
   "source": [
    "##### Print the head of the data as a cursory look"
   ]
  },
  {
   "cell_type": "code",
   "execution_count": 12,
   "metadata": {},
   "outputs": [
    {
     "name": "stdout",
     "output_type": "stream",
     "text": [
      "                          game_id        Date     Time  PitchNo  Inning  \\\n",
      "0  20240220-HighPointUniversity-1  2024-02-20  60314.0       82       3   \n",
      "1  20240220-HighPointUniversity-1  2024-02-20  63576.0      185       6   \n",
      "2  20240220-HighPointUniversity-1  2024-02-20  66446.0      269       8   \n",
      "3  20240220-HighPointUniversity-1  2024-02-20  64809.0      216       6   \n",
      "4  20240220-HighPointUniversity-1  2024-02-20  67985.0      308       9   \n",
      "\n",
      "  inning_half  PAofInning  PitchofPA           Pitcher   PitcherId  ...    z0  \\\n",
      "0         Top           4          2  Olsovsky, Dalton  1000251274  ...  5.41   \n",
      "1         Top           2          3     Glover, Lucas  1000138461  ...  6.01   \n",
      "2         Top           3          1      Carter, Noah  1000108939  ...  5.52   \n",
      "3      Bottom           6          1     Welch, Collin  1000192105  ...  6.23   \n",
      "4      Bottom           4          3       Lewis, Zach  1000127413  ...  5.18   \n",
      "\n",
      "    vx0     vy0    vz0    ax0    ay0    az0          catcher    catcher_id  \\\n",
      "0  3.28 -106.58   0.58  12.91  22.07 -34.04     Ruiz, Justin  1.000209e+09   \n",
      "1  5.23 -118.11  -3.37   3.74  26.71 -27.88     Ruiz, Justin  1.000209e+09   \n",
      "2  3.08 -122.94  -1.77  -3.68  24.28 -16.89     Grintz, Eric  6.864560e+05   \n",
      "3  0.38 -117.74  -0.37 -12.27  24.59 -28.63  Church, Braxton  1.000192e+09   \n",
      "4  9.62 -132.57 -10.20  -8.59  32.05 -14.93  Church, Braxton  1.000192e+09   \n",
      "\n",
      "   catcher_team  \n",
      "0       HIG_PAN  \n",
      "1       HIG_PAN  \n",
      "2       HIG_PAN  \n",
      "3       APP_MOU  \n",
      "4       APP_MOU  \n",
      "\n",
      "[5 rows x 77 columns]\n",
      "(1513439, 77)\n"
     ]
    }
   ],
   "source": [
    "data = pd.read_csv('data.csv')\n",
    "\n",
    "#Print the head of the data\n",
    "print(data.head())\n",
    "\n",
    "print(data.shape)"
   ]
  },
  {
   "cell_type": "markdown",
   "metadata": {},
   "source": [
    "One notable feature of this data is the enourmous amount of rows - 1.5 Million! Looking at the first column \"game_id\", we in fact see that multiple other schools are represented in this dataset, since we see names of schools that are not Texas or it's opponent on a given day (for example, the head of this data shows a game from High Point University v Not Texas). \n",
    "\n",
    "For this reason, an easy first step is to remove all the rows not containing \"Texas\" in the first column, to give us a pruned dataset of ONLY Texas home games. We choose to ignore the Away games, as garnering insights to get a better home field advantage is better than trying to analyze our performance at 6 different other school's fields."
   ]
  },
  {
   "cell_type": "code",
   "execution_count": 14,
   "metadata": {},
   "outputs": [
    {
     "name": "stdout",
     "output_type": "stream",
     "text": [
      "               game_id        Date     Time  PitchNo  Inning inning_half  \\\n",
      "4651  20240220-Texas-1  2024-02-20  78782.0      357       9         Top   \n",
      "4652  20240220-Texas-1  2024-02-20  72532.0      158       5         Top   \n",
      "4653  20240220-Texas-1  2024-02-20  75554.0      252       6      Bottom   \n",
      "4654  20240220-Texas-1  2024-02-20  73889.0      197       5      Bottom   \n",
      "4655  20240220-Texas-1  2024-02-20  76475.0      281       7      Bottom   \n",
      "\n",
      "      PAofInning  PitchofPA           Pitcher   PitcherId  ...    z0   vx0  \\\n",
      "4651           3          3      O'Hara, Cade  1000192590  ...  6.04  1.96   \n",
      "4652           1          2  Hamilton, Hudson      815123  ...  6.12  7.30   \n",
      "4653           7          3   Gilley, Brayden  1000165200  ...  6.41  1.61   \n",
      "4654          10          3   Gilley, Brayden  1000165200  ...  6.27  4.20   \n",
      "4655           2          6      Wilson, Dave  1000306108  ...  5.79  2.06   \n",
      "\n",
      "         vy0   vz0   ax0    ay0    az0             catcher catcher_id  \\\n",
      "4651 -128.39 -7.87 -9.46  26.93 -13.46  Schuessler, Kimble   694645.0   \n",
      "4652 -133.46 -5.53 -9.15  27.18 -15.40       Galvan, Rylan   805025.0   \n",
      "4653 -127.56 -4.87 -7.68  25.99 -19.20        LaRue, Dylan   804659.0   \n",
      "4654 -113.24 -3.16  5.52  24.10 -39.73        LaRue, Dylan   804659.0   \n",
      "4655 -131.64 -4.69  0.41  27.55 -20.54        LaRue, Dylan   804659.0   \n",
      "\n",
      "      catcher_team  \n",
      "4651       TEX_LON  \n",
      "4652       TEX_LON  \n",
      "4653       HBU_HUS  \n",
      "4654       HBU_HUS  \n",
      "4655       HBU_HUS  \n",
      "\n",
      "[5 rows x 77 columns]\n",
      "(10230, 77)\n"
     ]
    }
   ],
   "source": [
    "texas_data = data[data['game_id'].str.contains(\"Texas\", na=False)]\n",
    "\n",
    "texas_data.to_csv(\"texas_data.csv\", index=False)\n",
    "\n",
    "print(texas_data.head())\n",
    "\n",
    "print(texas_data.shape)"
   ]
  },
  {
   "cell_type": "markdown",
   "metadata": {},
   "source": [
    "After reducing our dataset to only the Texas home games, our dataset has a much more manageable 10230 rows. This is the dataset we will be basing the rest of our analysis on."
   ]
  },
  {
   "cell_type": "markdown",
   "metadata": {},
   "source": [
    "This is good enough for preliminary data cleaning. Now we explore the data to better understand our features and what we need to consider when modeling!"
   ]
  },
  {
   "cell_type": "markdown",
   "metadata": {},
   "source": [
    "### Data Exploration"
   ]
  },
  {
   "cell_type": "code",
   "execution_count": null,
   "metadata": {},
   "outputs": [],
   "source": [
    "cols = data.select_dtypes(include=['object', 'category']).columns\n",
    "cols = cols.drop(['game_id', 'Pitcher', 'PitcherTeam', 'Batter', 'BatterTeam', 'catcher', 'catcher_team'])\n",
    "\n",
    "max_col_width = max(len(col) for col in cols)\n",
    "\n",
    "for col in cols:\n",
    "    print(f'{col:<{max_col_width}}: {data[col].unique()}')"
   ]
  },
  {
   "cell_type": "code",
   "execution_count": null,
   "metadata": {},
   "outputs": [],
   "source": [
    "# print number of missing values in each column\n",
    "missing = data.isnull().sum()\n",
    "print(missing[missing > 0])"
   ]
  },
  {
   "cell_type": "code",
   "execution_count": null,
   "metadata": {},
   "outputs": [],
   "source": [
    "print(data['PlayResult'].value_counts())"
   ]
  },
  {
   "cell_type": "code",
   "execution_count": null,
   "metadata": {},
   "outputs": [],
   "source": [
    "plt.figure()\n",
    "sns.boxplot(x='PlayResult', y='Distance', data=data)\n",
    "plt.xlabel('Play Results')\n",
    "plt.ylabel('Distance')\n",
    "plt.xticks(rotation=90)\n",
    "plt.show()"
   ]
  },
  {
   "cell_type": "code",
   "execution_count": 6,
   "metadata": {},
   "outputs": [
    {
     "name": "stdout",
     "output_type": "stream",
     "text": [
      "IsHomeRun                    1.000000\n",
      "RunsScored                   0.526636\n",
      "hit_last_tracked_distance    0.337569\n",
      "Distance                     0.327059\n",
      "hit_y                        0.315036\n",
      "hit_hang_time                0.246433\n",
      "ExitSpeed                    0.198423\n",
      "hit_max_height               0.153468\n",
      "position_110x                0.070841\n",
      "hit_contact_x                0.068017\n",
      "Angle                        0.042155\n",
      "position_110y                0.039385\n",
      "PitchofPA                    0.037337\n",
      "Balls                        0.028325\n",
      "Strikes                      0.025754\n",
      "PitcherId                    0.016385\n",
      "HorzBreak                    0.015899\n",
      "catcher_id                   0.014210\n",
      "Extension                    0.013043\n",
      "InducedVertBreak             0.012919\n",
      "pfxz                         0.012479\n",
      "VertApprAngle                0.012105\n",
      "az0                          0.010826\n",
      "VertBreak                    0.010763\n",
      "SpinAxis                     0.009017\n",
      "PAofInning                   0.008517\n",
      "HorzApprAngle                0.007868\n",
      "PlateLocSide                 0.007286\n",
      "PlateLocHeight               0.006171\n",
      "SpeedDrop                    0.005122\n",
      "vx0                          0.005012\n",
      "RelSide                      0.003626\n",
      "ay0                          0.003127\n",
      "EffectiveVelo                0.002553\n",
      "RelSpeed                     0.000584\n",
      "Outs                         0.000488\n",
      "vz0                          0.000050\n",
      "vy0                         -0.001121\n",
      "vert_rel_angle              -0.002138\n",
      "Time                        -0.003318\n",
      "x0                          -0.003344\n",
      "RelHeight                   -0.003951\n",
      "hit_contact_y               -0.004339\n",
      "z0                          -0.004628\n",
      "BatterId                    -0.004642\n",
      "zone_time                   -0.004782\n",
      "hit_contact_z               -0.004799\n",
      "horz_rel_angle              -0.006673\n",
      "Direction                   -0.013656\n",
      "ax0                         -0.013920\n",
      "PitchNo                     -0.013983\n",
      "Bearing                     -0.014018\n",
      "Inning                      -0.015622\n",
      "pfxx                        -0.015835\n",
      "Tilt                        -0.016777\n",
      "SpinRate                    -0.018463\n",
      "position_110z               -0.021376\n",
      "hit_spin_axis               -0.024879\n",
      "OutsOnPlay                  -0.026176\n",
      "hit_x                       -0.037647\n",
      "HitSpinRate                 -0.109330\n",
      "y0                                NaN\n",
      "Name: IsHomeRun, dtype: float64\n"
     ]
    }
   ],
   "source": [
    "data = pd.read_csv('data_10k.csv')\n",
    "\n",
    "# Ensure IsHomeRun is defined as a binary column\n",
    "data['IsHomeRun'] = (data['PlayResult'] == 'HomeRun').astype(int)\n",
    "\n",
    "# Drop all columns that aren't numerical\n",
    "numerical_features = data.select_dtypes(include=['float64', 'int64']).columns\n",
    "\n",
    "# Calculate correlations with IsHomeRun\n",
    "home_run_corr = data[numerical_features].corr()['IsHomeRun'].sort_values(ascending=False)\n",
    "\n",
    "# Display the correlations\n",
    "pd.set_option('display.max_rows', None)\n",
    "print(home_run_corr)"
   ]
  },
  {
   "cell_type": "markdown",
   "metadata": {},
   "source": [
    "### Feature Engineering"
   ]
  },
  {
   "cell_type": "markdown",
   "metadata": {},
   "source": [
    "## Modeling"
   ]
  },
  {
   "cell_type": "markdown",
   "metadata": {},
   "source": [
    "### Decision Trees (Cristian)"
   ]
  },
  {
   "cell_type": "markdown",
   "metadata": {},
   "source": [
    "### Neural Nets (Hudson)"
   ]
  },
  {
   "cell_type": "markdown",
   "metadata": {},
   "source": [
    "### SVM"
   ]
  },
  {
   "cell_type": "markdown",
   "metadata": {},
   "source": [
    "## Outcome"
   ]
  }
 ],
 "metadata": {
  "kernelspec": {
   "display_name": "venv",
   "language": "python",
   "name": "python3"
  },
  "language_info": {
   "codemirror_mode": {
    "name": "ipython",
    "version": 3
   },
   "file_extension": ".py",
   "mimetype": "text/x-python",
   "name": "python",
   "nbconvert_exporter": "python",
   "pygments_lexer": "ipython3",
   "version": "3.11.9"
  }
 },
 "nbformat": 4,
 "nbformat_minor": 2
}
